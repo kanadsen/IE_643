{
  "cells": [
    {
      "cell_type": "markdown",
      "source": [
        "#Import required packages"
      ],
      "metadata": {
        "id": "7pWUFqBqD2JP"
      }
    },
    {
      "cell_type": "code",
      "execution_count": 74,
      "metadata": {
        "id": "VpoRS78t_YG7"
      },
      "outputs": [],
      "source": [
        "import numpy as np\n",
        "import matplotlib.pyplot as plt\n",
        "import random"
      ]
    },
    {
      "cell_type": "code",
      "source": [
        "#seed random number generator of numpy for reproducibility\n",
        "np.random.seed(21)"
      ],
      "metadata": {
        "id": "EFhYg00oBkTI"
      },
      "execution_count": 75,
      "outputs": []
    },
    {
      "cell_type": "markdown",
      "source": [
        "#Data Generation"
      ],
      "metadata": {
        "id": "UbEXQaAwBQtg"
      }
    },
    {
      "cell_type": "markdown",
      "source": [
        "1. Generate 10 two-dimensional data points from a multi-variate Gaussian distribution with mean [0,0] and identity covariance matrix. Label data points as class +1. Consider this labeled data set as $D_1$.  ($\\textbf{Hint:}$ Use numpy.random.multivariate_normal)"
      ],
      "metadata": {
        "id": "RpsFp0ADAQlO"
      }
    },
    {
      "cell_type": "markdown",
      "source": [
        "## Mean and Covariance Matrix type\n",
        "<li>In 1D, both mean and variance can be a single number.\n",
        "\n",
        "<li>For 2D ($x$ and $y$), there will be 2 means ($\\mu_x$ and $\\mu_y$).\n",
        "Also, Covariance matrix would be\n",
        "$$Cov=\\begin{bmatrix}\n",
        " \\sigma_{xx}^2 & \\sigma_{xy}^2 \\\\\n",
        " \\sigma_{yx}^2 & \\sigma_{yy}^2\n",
        "\\end{bmatrix}$$\n",
        "The covariance matrix is therefore symmetric and also a positive semidefinite will help in proper sampling."
      ],
      "metadata": {
        "id": "xhZ0CoO04Nti"
      }
    },
    {
      "cell_type": "code",
      "source": [
        "#Generate D_1\n",
        "mean=np.array([0,0])\n",
        "cov=np.eye(2,2)\n",
        "\n",
        "#seed random number generator of numpy for reproducibility\n",
        "np.random.seed(21)\n",
        "D1 = np.random.multivariate_normal(mean, cov, 10)\n",
        "x1,y1=D1.T\n",
        "\n",
        "#Adding Label +1 \n",
        "D1=np.insert(D1,D1.shape[1],int(1),axis=1)\n",
        "\n",
        "#plotting D1\n",
        "plt.figure(figsize=(10,10))\n",
        "plt.plot(x1, y1, 'x')\n",
        "plt.axis('equal')\n",
        "plt.show()"
      ],
      "metadata": {
        "id": "ewUGs6OtBVQf",
        "outputId": "dbff0354-7873-4dbd-96a9-c08d09d81a5b",
        "colab": {
          "base_uri": "https://localhost:8080/",
          "height": 592
        }
      },
      "execution_count": 76,
      "outputs": [
        {
          "output_type": "display_data",
          "data": {
            "text/plain": [
              "<Figure size 720x720 with 1 Axes>"
            ],
            "image/png": "[encoded data removed]"
          },
          "metadata": {
            "needs_background": "light"
          }
        }
      ]
    },
    {
      "cell_type": "markdown",
      "source": [
        "2. Generate 10 two-dimensional data points from a multi-variate Gaussian distribution with mean [-2,-2] and identity covariance matrix. Label data points as class -1. Consider this labeled data set as $D_2$."
      ],
      "metadata": {
        "id": "VMzG2JJLBVkz"
      }
    },
    {
      "cell_type": "code",
      "source": [
        "#Generate D_2\n",
        "mean=np.array([-2,-2])\n",
        "cov=np.eye(2,2)\n",
        "\n",
        "#seed random number generator of numpy for reproducibility\n",
        "np.random.seed(21)\n",
        "D2 = np.random.multivariate_normal(mean, cov, 10)\n",
        "x2, y2 = D2.T\n",
        "\n",
        "#Adding Label +1 \n",
        "D2=np.insert(D2,D2.shape[1],int(-1),axis=1)\n",
        "\n",
        "plt.figure(figsize=(10,10))\n",
        "plt.plot(x2, y2, 'x')\n",
        "plt.axis('equal')\n",
        "plt.show()"
      ],
      "metadata": {
        "id": "ISyEFMlLBYjh",
        "outputId": "a00b6051-c6c8-4a94-a9fb-fbc8cac09278",
        "colab": {
          "base_uri": "https://localhost:8080/",
          "height": 592
        }
      },
      "execution_count": 77,
      "outputs": [
        {
          "output_type": "display_data",
          "data": {
            "text/plain": [
              "<Figure size 720x720 with 1 Axes>"
            ],
            "image/png": "[encoded data removed]"
          },
          "metadata": {
            "needs_background": "light"
          }
        }
      ]
    },
    {
      "cell_type": "markdown",
      "source": [
        "3. Construct $D=D_1 \\cup D_2$. Shuffle the data in $D$. (Hint: Use random.shuffle().)"
      ],
      "metadata": {
        "id": "_zc-fEyRCBI-"
      }
    },
    {
      "cell_type": "code",
      "source": [
        "print(\"D1\\n\",D1)\n",
        "print(\"D2\\n\",D2)"
      ],
      "metadata": {
        "colab": {
          "base_uri": "https://localhost:8080/"
        },
        "id": "j9RsfVf-to6Y",
        "outputId": "4eca5e98-4a92-4a64-fe43-a461c044fb47"
      },
      "execution_count": 78,
      "outputs": [
        {
          "output_type": "stream",
          "name": "stdout",
          "text": [
            "D1\n",
            " [[-0.05196425 -0.11119605  1.        ]\n",
            " [ 1.0417968  -1.25673929  1.        ]\n",
            " [ 0.74538768 -1.71105376  1.        ]\n",
            " [-0.20586438 -0.23457129  1.        ]\n",
            " [ 1.12814404 -0.01262595  1.        ]\n",
            " [-0.61320029  1.3736885   1.        ]\n",
            " [ 1.61099198 -0.68922827  1.        ]\n",
            " [ 0.69192371 -0.4481156   1.        ]\n",
            " [ 0.16234247  0.25722913  1.        ]\n",
            " [-1.27545586  0.06400443  1.        ]]\n",
            "D2\n",
            " [[-2.05196425 -2.11119605 -1.        ]\n",
            " [-0.9582032  -3.25673929 -1.        ]\n",
            " [-1.25461232 -3.71105376 -1.        ]\n",
            " [-2.20586438 -2.23457129 -1.        ]\n",
            " [-0.87185596 -2.01262595 -1.        ]\n",
            " [-2.61320029 -0.6263115  -1.        ]\n",
            " [-0.38900802 -2.68922827 -1.        ]\n",
            " [-1.30807629 -2.4481156  -1.        ]\n",
            " [-1.83765753 -1.74277087 -1.        ]\n",
            " [-3.27545586 -1.93599557 -1.        ]]\n"
          ]
        }
      ]
    },
    {
      "cell_type": "code",
      "source": [
        "#Construct D and shuffle\n",
        "D=np.concatenate((D1,D2),axis=0)\n",
        "np.random.shuffle(D)\n",
        "D"
      ],
      "metadata": {
        "id": "9kys1gOBDlFC",
        "colab": {
          "base_uri": "https://localhost:8080/"
        },
        "outputId": "3a223660-18ee-4efb-94c5-7ddbdb8eb3f5"
      },
      "execution_count": 79,
      "outputs": [
        {
          "output_type": "execute_result",
          "data": {
            "text/plain": [
              "array([[-1.25461232, -3.71105376, -1.        ],\n",
              "       [ 0.16234247,  0.25722913,  1.        ],\n",
              "       [ 0.74538768, -1.71105376,  1.        ],\n",
              "       [-0.87185596, -2.01262595, -1.        ],\n",
              "       [ 1.0417968 , -1.25673929,  1.        ],\n",
              "       [-2.05196425, -2.11119605, -1.        ],\n",
              "       [ 0.69192371, -0.4481156 ,  1.        ],\n",
              "       [ 1.12814404, -0.01262595,  1.        ],\n",
              "       [-0.20586438, -0.23457129,  1.        ],\n",
              "       [-1.83765753, -1.74277087, -1.        ],\n",
              "       [-1.30807629, -2.4481156 , -1.        ],\n",
              "       [-0.9582032 , -3.25673929, -1.        ],\n",
              "       [-3.27545586, -1.93599557, -1.        ],\n",
              "       [-0.61320029,  1.3736885 ,  1.        ],\n",
              "       [-0.05196425, -0.11119605,  1.        ],\n",
              "       [-2.20586438, -2.23457129, -1.        ],\n",
              "       [-0.38900802, -2.68922827, -1.        ],\n",
              "       [-1.27545586,  0.06400443,  1.        ],\n",
              "       [ 1.61099198, -0.68922827,  1.        ],\n",
              "       [-2.61320029, -0.6263115 , -1.        ]])"
            ]
          },
          "metadata": {},
          "execution_count": 79
        }
      ]
    },
    {
      "cell_type": "markdown",
      "source": [
        "#Data Visualization"
      ],
      "metadata": {
        "id": "X323eC7MGy62"
      }
    },
    {
      "cell_type": "markdown",
      "source": [
        "Write code to visualize the data $D$ you have generated. Use different colors for different classes. (Use matplotlib.pyplot.scatter to plot the points.)"
      ],
      "metadata": {
        "id": "LHP4fS3QG1pJ"
      }
    },
    {
      "cell_type": "code",
      "source": [
        "def plot_data(data,lineplot=False):\n",
        "  #write code to plot the data points. Use different colors for different classes.\n",
        "  if data.shape[1]!=3:\n",
        "    raise Exception(\"Add label to 2D data!\")\n",
        "  x,y,label=data.T\n",
        "  \n",
        "\n",
        "  plt.figure(figsize=(10,10))\n",
        "  plt.scatter(x, y, c=label)\n",
        "\n",
        "  if not lineplot:\n",
        "    plt.show()\n",
        "\n",
        "\n",
        "plot_data(D)"
      ],
      "metadata": {
        "id": "KzI4a69LG0z6",
        "colab": {
          "base_uri": "https://localhost:8080/",
          "height": 592
        },
        "outputId": "9819c6a8-96f3-45b8-a6fb-8180c7095fd6"
      },
      "execution_count": 80,
      "outputs": [
        {
          "output_type": "display_data",
          "data": {
            "text/plain": [
              "<Figure size 720x720 with 1 Axes>"
            ],
            "image/png": "[encoded data removed]"
          },
          "metadata": {
            "needs_background": "light"
          }
        }
      ]
    },
    {
      "cell_type": "markdown",
      "source": [
        "#Perceptron prediction function"
      ],
      "metadata": {
        "id": "F2aTQX9dD-De"
      }
    },
    {
      "cell_type": "markdown",
      "source": [
        "Write code to implement the prediction rule used in Perceptron. (Use the numpy function which helps in computing the dot product between two vectors.)"
      ],
      "metadata": {
        "id": "oWoQ8TEcD8Es"
      }
    },
    {
      "cell_type": "code",
      "execution_count": 81,
      "metadata": {
        "id": "qeCo0wAB_YHA"
      },
      "outputs": [],
      "source": [
        "def perceptron_prediction(w, x):\n",
        "    #write code to compute the prediction for the example x using weight w\n",
        "    pred=np.dot(w,x)\n",
        "    if pred>=0:\n",
        "      prediction = +1\n",
        "    else:\n",
        "      prediction = -1\n",
        "    \n",
        "    return prediction"
      ]
    },
    {
      "cell_type": "markdown",
      "source": [
        "#Function to update weights "
      ],
      "metadata": {
        "id": "6a9jDQ-qEC85"
      }
    },
    {
      "cell_type": "markdown",
      "source": [
        "Write code to implement the update rule for updating weights in perceptron learning algorithm. If there is a mistake in prediction made by perceptron, return is_mistake as True, otherwise return is_mistake as False. "
      ],
      "metadata": {
        "id": "HH3oAlYCEMb4"
      }
    },
    {
      "cell_type": "code",
      "execution_count": 82,
      "metadata": {
        "id": "ne0ohgNI_YHB"
      },
      "outputs": [],
      "source": [
        "def perceptron_update_weights(w, x, y, y_pred):\n",
        "    is_mistake = False\n",
        "    #check for mistake and set is_mistake flag accordingly\n",
        "    #and write code to update the weights in perceptron \n",
        "    if y_pred!=y:\n",
        "      is_mistake=True\n",
        "      w=w+y*x\n",
        "    return w, is_mistake"
      ]
    },
    {
      "cell_type": "markdown",
      "source": [
        "#Training procedure for perceptron"
      ],
      "metadata": {
        "id": "5NrLsVCBEJHz"
      }
    },
    {
      "cell_type": "markdown",
      "source": [
        "Complete the training procedure to train perceptron by adding appropriate code where required."
      ],
      "metadata": {
        "id": "CFIA67sBGfWc"
      }
    },
    {
      "cell_type": "code",
      "execution_count": 199,
      "metadata": {
        "id": "08hi7UQS_YHB"
      },
      "outputs": [],
      "source": [
        "def train_perceptron(data, ANIMATE=False):\n",
        "    #Initialize weights \n",
        "    #w = ??  # try randomly generating w or zero initialization\n",
        "    w=np.random.rand(data.shape[1])\n",
        "    epochs=0 #useful for executing multiple passes over a finite data set\n",
        "    num_mistakes = 99 #some dummy value to get the while loop going \n",
        "    max_epochs = 50\n",
        "\n",
        "    #storing all weights\n",
        "    wAll=[]\n",
        "    wAll.append(w)\n",
        "\n",
        "    while num_mistakes > 0 and epochs<max_epochs:   # until mistakes are not zero or number of epochs reach max_epochs\n",
        "        num_mistakes = 0\n",
        "        for i in range(len(data)):\n",
        "            #retrieve the feature vector x from data set D \n",
        "            x = data[i,0:2]\n",
        "            #Append an additional constant feature 1 to x (Use np.concatenate)\n",
        "            x = np.concatenate((x,1), axis=None)\n",
        "            \n",
        "            y_hat = perceptron_prediction(w, x)\n",
        "            \n",
        "            #retrieve the label y for x from data set D \n",
        "            y = data[i,2]\n",
        "            \n",
        "            w, is_mistake = perceptron_update_weights(w, x, y, y_hat)\n",
        "            \n",
        "            \n",
        "            if is_mistake:\n",
        "              num_mistakes += 1\n",
        "\n",
        "        epochs=epochs+1\n",
        "        wAll.append(w)\n",
        "    \n",
        "    #for animation\n",
        "    if ANIMATE:\n",
        "      return wAll, epochs\n",
        "\n",
        "    return w"
      ]
    },
    {
      "cell_type": "markdown",
      "source": [
        "#Plotting the separating line"
      ],
      "metadata": {
        "id": "4obz-qQlD6DT"
      }
    },
    {
      "cell_type": "markdown",
      "source": [
        "Write code to plot the separating line along with the data."
      ],
      "metadata": {
        "id": "B9vTTWmMH1e8"
      }
    },
    {
      "cell_type": "code",
      "execution_count": 200,
      "metadata": {
        "id": "UF3MW_5r_YG_"
      },
      "outputs": [],
      "source": [
        "def plot_data_with_separator(data, w):\n",
        "  #write required code. (You can reuse the code written for plotting the data points.)\n",
        "  plot_data(data,True)\n",
        "  #using two points in a line to plot\n",
        "  xPoint=np.array([0,0])\n",
        "  xPoint[0]=min(data[:,0])-1\n",
        "  xPoint[1]=max(data[:,0])+1\n",
        "  yPoint= (w[0]*xPoint+w[2])/(-w[1])\n",
        "  plt.plot(xPoint,yPoint)\n",
        "  plt.show()\n"
      ]
    },
    {
      "cell_type": "markdown",
      "source": [
        "#Calling the Perceptron train function."
      ],
      "metadata": {
        "id": "i46n2f8eIcjD"
      }
    },
    {
      "cell_type": "code",
      "execution_count": 201,
      "metadata": {
        "id": "fgZyu4VC_YHK"
      },
      "outputs": [],
      "source": [
        "w_final = train_perceptron(data)    "
      ]
    },
    {
      "cell_type": "markdown",
      "source": [
        "#Calling the plot function to plot separator"
      ],
      "metadata": {
        "id": "1cwNJElLIneS"
      }
    },
    {
      "cell_type": "code",
      "source": [
        "plot_data_with_separator(data, w_final)"
      ],
      "metadata": {
        "id": "jyLZvy0wk9vn",
        "colab": {
          "base_uri": "https://localhost:8080/",
          "height": 592
        },
        "outputId": "31f55bf1-f70a-4c21-e072-1d0f722b2525"
      },
      "execution_count": 202,
      "outputs": [
        {
          "output_type": "display_data",
          "data": {
            "text/plain": [
              "<Figure size 720x720 with 1 Axes>"
            ],
            "image/png": "[encoded data removed]"
          },
          "metadata": {
            "needs_background": "light"
          }
        }
      ]
    },
    {
      "cell_type": "markdown",
      "source": [
        "#Additional functionality (Optional):\n",
        "\n",
        "Illustrate the behavior of the separating line between the updates as contiguous plots or as animation. Highlight the data points which cause the update in the separating line orientations.\n",
        "\n"
      ],
      "metadata": {
        "id": "l5XomIo7SiW9"
      }
    },
    {
      "cell_type": "code",
      "source": [
        "%matplotlib inline\n",
        "\n",
        "import numpy as np\n",
        "import matplotlib.pyplot as plt\n",
        "import seaborn as sns\n",
        "\n",
        "data=D\n",
        "x1,y1,_=D1.T\n",
        "x2,y2,_=D2.T\n",
        "\n",
        "# create a figure and axes\n",
        "fig = plt.figure(figsize=(10,10))\n",
        "ax1 = plt.subplot(1,1,1)   \n",
        "\n",
        "\n",
        "# set up the subplots as needed\n",
        "ax1.set_xlim(( min(x2)-1, max(x1)+1))            \n",
        "ax1.set_ylim((min(y2)-1, max(y1)+1))\n",
        "ax1.set_xlabel('X1')\n",
        "ax1.set_ylabel('X2')\n",
        "\n",
        "\n",
        "\n",
        "# create objects that will change in the animation. These are\n",
        "# initially empty, and will be given new values for each frame\n",
        "# in the animation.\n",
        "txt_title = ax1.set_title('Pereceptron Update Animation')\n",
        "line1, = ax1.plot([], [], 'g', lw=2)     # ax.plot returns a list of 2D line objects\n",
        "\n",
        "\n",
        "\n",
        "line2 = ax1.plot(x1,y1,'bo',x2,y2,'ro')\n",
        "\n",
        "\n",
        "ax1.legend(['hyperplane']);"
      ],
      "metadata": {
        "colab": {
          "base_uri": "https://localhost:8080/",
          "height": 621
        },
        "id": "cKNXhn0nvVDK",
        "outputId": "44862e87-cd2d-45eb-e889-c883fcaa64ac"
      },
      "execution_count": 203,
      "outputs": [
        {
          "output_type": "display_data",
          "data": {
            "text/plain": [
              "<Figure size 720x720 with 1 Axes>"
            ],
            "image/png": "[encoded data removed]"
          },
          "metadata": {
            "needs_background": "light"
          }
        }
      ]
    },
    {
      "cell_type": "code",
      "source": [
        "# animation function. This is called sequentially\n",
        "#using two points in a line to plot\n",
        "xPoint=np.array([0,0])\n",
        "xPoint[0]=min(data[:,0])-1\n",
        "xPoint[1]=max(data[:,0])+1\n",
        "\n",
        "wAll, EPOCHS=train_perceptron(data,ANIMATE=True)\n",
        "def drawframe(n):\n",
        "   \n",
        "    w=wAll[n]\n",
        "    yPoint= (w[0]*xPoint+w[2])/(-w[1])\n",
        "    line1.set_data(xPoint, yPoint)\n",
        "    txt_title.set_text('EPOCH Number {0:4d}'.format(n))\n",
        "    return line1,\n",
        "\n"
      ],
      "metadata": {
        "id": "MzjDY3yU0SUn"
      },
      "execution_count": 204,
      "outputs": []
    },
    {
      "cell_type": "code",
      "source": [
        "from matplotlib import animation\n",
        "\n",
        "# blit=True re-draws only the parts that have changed.\n",
        "anim = animation.FuncAnimation(fig, drawframe, frames=EPOCHS+1, interval=1000, blit=True)"
      ],
      "metadata": {
        "id": "vEzwCPKE0Vcq"
      },
      "execution_count": 205,
      "outputs": []
    },
    {
      "cell_type": "code",
      "source": [
        "from IPython.display import HTML\n",
        "HTML(anim.to_html5_video())"
      ],
      "metadata": {
        "colab": {
          "base_uri": "https://localhost:8080/",
          "height": 742
        },
        "id": "a0SxaHEt0cYA",
        "outputId": "6da77db8-7db1-474f-8b56-96a16672fe56"
      },
      "execution_count": 206,
      "outputs": [
        {
          "output_type": "execute_result",
          "data": {
            "text/plain": [
              "<IPython.core.display.HTML object>"
            ],
            "text/html": [
              "<video width=\"720\" height=\"720\" controls autoplay loop>\n",
              "  <source type=\"video/mp4\" src=\"data:video/mp4;base64,AAAAHGZ0eXBNNFYgAAACAGlzb21pc28yYXZjMQAAAAhmcmVlAABFP21kYXQAAAKtBgX//6ncRem9\n",
              "5tlIt5Ys2CDZI+7veDI2NCAtIGNvcmUgMTUyIHIyODU0IGU5YTU5MDMgLSBILjI2NC9NUEVHLTQg\n",
              "QVZDIGNvZGVjIC0gQ29weWxlZnQgMjAwMy0yMDE3IC0gaHR0cDovL3d3dy52aWRlb2xhbi5vcmcv\n",
              "eDI2NC5odG1sIC0gb3B0aW9uczogY2FiYWM9MSByZWY9MyBkZWJsb2NrPTE6MDowIGFuYWx5c2U9\n",
              "MHgzOjB4MTEzIG1lPWhleCBzdWJtZT03IHBzeT0xIHBzeV9yZD0xLjAwOjAuMDAgbWl4ZWRfcmVm\n",
              "PTEgbWVfcmFuZ2U9MTYgY2hyb21hX21lPTEgdHJlbGxpcz0xIDh4OGRjdD0xIGNxbT0wIGRlYWR6\n",
              "b25lPTIxLDExIGZhc3RfcHNraXA9MSBjaHJvbWFfcXBfb2Zmc2V0PS0yIHRocmVhZHM9MyBsb29r\n",
              "YWhlYWRfdGhyZWFkcz0xIHNsaWNlZF90aHJlYWRzPTAgbnI9MCBkZWNpbWF0ZT0xIGludGVybGFj\n",
              "ZWQ9MCBibHVyYXlfY29tcGF0PTAgY29uc3RyYWluZWRfaW50cmE9MCBiZnJhbWVzPTMgYl9weXJh\n",
              "bWlkPTIgYl9hZGFwdD0xIGJfYmlhcz0wIGRpcmVjdD0xIHdlaWdodGI9MSBvcGVuX2dvcD0wIHdl\n",
              "aWdodHA9MiBrZXlpbnQ9MjUwIGtleWludF9taW49MSBzY2VuZWN1dD00MCBpbnRyYV9yZWZyZXNo\n",
              "PTAgcmNfbG9va2FoZWFkPTQwIHJjPWNyZiBtYnRyZWU9MSBjcmY9MjMuMCBxY29tcD0wLjYwIHFw\n",
              "bWluPTAgcXBtYXg9NjkgcXBzdGVwPTQgaXBfcmF0aW89MS40MCBhcT0xOjEuMDAAgAAAJl9liIQA\n",
              "F//+99S3zLLtU2+2C6j3op4mX0N1JQGblsTtOoAAAAMAAAMAAAMA6VSCY3zuANGMtAAAAwBTwAqY\n",
              "FzZ0fi398KuIAWuyFc5U9WMujjw2dzs8pXOCo4mmPcrYqyoi87FyL3TMewDlau8S7GUEHrbQ0zNv\n",
              "TNh4HGfM6+j1VrLDT7/Gw1mEPzyWzjXV82TqBEd3+6jK3JGQ1It/+EyGUzHzCAS6yvC5BNtK1Wmn\n",
              "nKYnIxRwrXb0n13npiaqZbvez6cWPY8DuHY99CqA2rK+wzQ7NxIwbvxJd9IB0RGAr5eLAtxDwvd/\n",
              "FI4+4bhUcZEe+/sb01iLmsaWr3Vu4InYLqQVfzpGN/FQO31acM8OvwZIs4eiZw/2Q7FIUVQPrMV4\n",
              "ROgsDIsn8+vZN791PVIlUs57fJPszfvqhDvRTQtGrDAdLe9wpusvvyiycgYqnBpk2QpfHh9JhMoX\n",
              "ELQ6i0/HKZgG//ke0hAveho34MCGT/ACuDCY0TtSQ4nsuJkM2r+qXXpZjuPXsflGjaca8HxzAgjD\n",
              "yHg/uBp18IBc/rzJPX2aeP9mdTC1Wfj+E3qfyUvYfT10fbjEXtc0cLmL0zr5P/qKfPcA0sr9ARoz\n",
              "H5UaI/yZjbuqK+w+aKWv4hgtMNCWYRHK+mSSrApizSAP8hP+WgeNHiEuh5i2J3yxhXJJLqy6g53X\n",
              "W/Tajk3y0fkxppXigzjrCpn/2yuEiZXoOZs4/++3Dp/qs0jlnOlXkOqToWBSPtcuBxE3WCjy74PB\n",
              "6THIWkuKxYg1+GN2ebQq91hP2dIZZ6PyowRIA+ZUbcIRNI+MopoX6a/KIH2iG1D46tUzmxj2uT7x\n",
              "1jyk5kV6Rt7g5oFfjxPpOlc1tdjWlIM1zKRJsnARGJ0+9ByTnLZgY4tESZANkmpxiYPXYuVjaZsw\n",
              "LIRM0S3vjZuW4gvna+1+YXxyJhNQOnTg3VPI8+MlUXcNAo8eN2CYk3QxeeXvg3YLgeQauWfSa5FM\n",
              "7HwIvkXDiiHr9C5+rjN3kbrbXU+dhICsU9vszjR4sU/i+TAAhn3xfDIyNilBKBqojPvzfg8/buLf\n",
              "wDd8UGFreh2XTBh2V5gy2wMJc6H+JITYT75ZcOadYb2hn5AV/3rNtSvqQHTcWxuQZSD2U4zzB51m\n",
              "2/cAQJYTnKVXpgPFZx+dqJihuv09iCw/Tb7A36jeYoJT+lsdmul22h9ihx7pb+BjZVp4wRShF6X7\n",
              "Y9pjDh78btl4b1Ntq0kz8qx4ocXUlDDbY6/B9tBk4IE2Gtwh9sb+yUXkiYQH//0sGbmAWY8JMciJ\n",
              "I1vZ0nfnd9XuTufPlxyNS0q4hkyci9A46BRri/8n/3QeBAnEziv9GIXpILx6w1KVCzuLBN4+29Ga\n",
              "PN9jnO+vp6B5IIg5D85SuHasbswGbbeOfDud24O31B7qAKXVvP2Ki1Tvz4pO4+asqQA92OwCVc8w\n",
              "Ve0tNk4n+nWE5R8uvZ6CYVL1QPgeV6zNATOHJw/8PN5ndZYyl0/1n9YN/PNO8VHMWpMHydE+Ml/k\n",
              "M5awqM8fuRuKYlw4qINex9terbIO66cQpu3Xe60UvXKdmULu07JHiOSN6Nvo+ur9JsDwKcuqL5Lz\n",
              "anccKUL0CijzTGM9NiAhWY5VSTidMWXCxhbDlumhjcC6hY49Unp2QKLp7MfktH/3OBbnAaPSS0tv\n",
              "Eqi5m7i0UXE8hEQfTmYi1brMt+P3VAj+8dmX2eA+OhGr4guSC2Bf5htbJ/rAxKa64oYB/cPnD94N\n",
              "GAh6QR3u2SPTfSp4aQ3cDMw+YjLnKAsj1XkXALc5c5B7QrtGNDK2MAt5eD0DhGxpKDhd1fPFwX+s\n",
              "p7xmL7M/UEgLnvshcqybbu5WMkH8IZV4OtS42b96UniAFJoXt3qjGlCUaLnnszVPG6PcnAMr+/wt\n",
              "vMaXTcm2ofA8KGW9Lbu4gJX6/dRC8y0OAmS3PaPwuP54PSHCXn47/CERem/VHddKMi4lyYoRMFri\n",
              "Iid0DyIVqrl5G2TMn2Pxarr8XQR+sCSPWABxa8ahErGXai5H0b7nmSlFSOvb5FxUMJplTA4jpEcl\n",
              "B3LiSNOktPCfCevrnUKURixq2zvAC5hzvGe0jU6WAuWMfj2sRXCUz17lqVUAIW+OkdTkojYkeA8B\n",
              "zEEJF+Z4EdGsg1mNfFQBDdgYSLoV6d9Ob7YQ+Idvq2yAvLTKbpAKLHainCszEbmCgUaod8W2zQZx\n",
              "SauuvKzTJGCxpU1XLqUTp/iLV5g1MrxYgO31ET3r6lnbmw8gQBuvXDbk4wBGd+xpSlsDY/+Sl/bp\n",
              "1OOd2V9HZmBtXH7jLfjflQsAzfe/eaX5aBWbGSBAmL7GhBZq8TFuKXAEgeIgEg/0WNW9FNaL8+nT\n",
              "iNq2W60FTcQL4UYUeS8jtADFcyJYSxWaYvuhiufRkZj/kkn7YE4gdj8SUFukxZO8GKeuAOyTBe6N\n",
              "ik0PG8bfe9Cp9vpsO6HyayCJ2sJVBa9W5f94i3TRF86nxd+zrCsHaEPQ0nK2ga41rt17zQPpuoln\n",
              "grlEInqfN0y4VV55izrxMgPkyXafY5uR8Iu7ONl+/un5jIydygKZqtG8LSdTetqfdupUUj8dQiEu\n",
              "dc2yCzR5rGH6/cKrdFRwr9Qz/fbJjjvOnW1P89FBTs2ymcgb8gcT2Jv+aqFmh7IgbQ37hxVK3MkU\n",
              "kq7lvNkLNNgW9v15nC6C2y2xJyMfnqoAqe9qmVB6PilDZTQU21X59HQMyXwuDgsC9yFtVxnpMAou\n",
              "qw3pIkUWVbu7mkPxvJlcRRRN8RgOyxiNhhesS3I3BAoW/J0GdHxMYOozZlwASNVjw/r5G2Vj7khy\n",
              "cyPzWyYaBVNRyoSjFrVXAQJWxIV/0C655W9f9lOZYNUTjwx6cIvA7p/Nd1VOx97Xh3DS6ZImXHv9\n",
              "x4K7FyptMvh4c3XU4UwFO9VSA9JS2yqfb+Q/B1tDK7lgrSer4XYn4ie8SSbLe2a+N4p2SzoSoZqD\n",
              "4kIK2DzZZy9Mc0xOQ9zOatLI4gCsLGaw+RG08LOAcMpPArVLH7Uul/iclh+TNCSAdMVpm+llPv1l\n",
              "/2g8gjsg5g3zwK/Ioqi+1hDY1Ek0nUPP5pSbW3bIluaWMrb8L/wZCG49aDYr+p3T0cHKR8C8sRqu\n",
              "Rpijix+Znqb+Sa+2lsR9Gk4WEKBwC4QQUefSSfNUyqrV9RqEvE7sWdO4NI/3WXyFwVQ2pDfmVDJ9\n",
              "uYbgjudNpy8bnMvwGvRc9hpyi2TX23s95U7kZZS+PdG3Iktm9Aj61B0joNNryZvDnlkSAzzMbQeu\n",
              "oW5r6H3rvGE2oX8NTUwiViAsudhIb2aNakHXjZiRUTWEQtK5sPN5G6jGefuVnIuoj2O4B25BNXMv\n",
              "MVpBwhI3cdrcEv4gATa86k2HVxUI+r5ihFdI6ca2NvQSLTcU0ybs9VCBbpXjbwWKkUBVfgfxHg/7\n",
              "xl3sLfSWVfJFpxA1p2xUXBRSG79uF288resQsQwBeog0/gm1rwLEfwaCIftfKiUQrEe7GHoyizSv\n",
              "rzPoGnBtAJhjwDQZIegxQdUp1k2/YvRbz66UTNbApPRKrYpNcmqZEVrfQsc0fVd9mTSXU1ta8mIG\n",
              "Vx5cb2Ij8j4wiIHEw810zm6wr7LXLBmCXFQLRfklFp7nz8irIT3OMuJ97EOM470QH9dO/bPfTw8Z\n",
              "vLD+aOpHyiEoy/jHNqEyGIZECWEte6llm8FlyTniFpuYkE5DmbBkdFdRaSNkPqusWCuIxDIvxjU4\n",
              "flDKYq8l/yN+6IiXjhHGuaVc+SGxS+K7MEpbHheI3zT4/XagLAoMzMncaqdKWwZSXOTJlc1QtRnp\n",
              "yC23PA3bxI1Yrx67mmolbxVC3K+zMTLd/6Tgq5GtRwWysZYCWjXJhuRj1CNcx1ib9qHpJaqik6Q8\n",
              "tIbAn1iagYCnOYPpveFcqooF+9/j+MLm1xG9SrEhJir2R9Ic020kj26ciSSSeBGCBskfBkkErCFZ\n",
              "mw7jREIfwwr/BI36b9IxTJumw21r3ggRxNZsY++uN/EDezGagGQenqT6V1jdhwUMhlPYJVHrum8n\n",
              "yv4G/GBtD1k7VOQpCYHFtRlAGJetBrHe5+BAaUQck5N2lMXFJrcgGCbFHSMvVrPJvLKQPnOMMRGe\n",
              "u+MnoRD9vrjTSeenJzY+kYX4PxhT2kzBnowM7KTrZObUrwjKAOx9ym9fqKN98cDMT0qyNhlqq09D\n",
              "hcaXSl0V7TayoqW7rPkcALs3+ffOCzaqgwr/tvmlIZjZPzE20W+Al9TbK0IlhLFlb4SNW6NVOPLE\n",
              "zj5G1FzT1x/VjDPlpQl8MOwpZM5n7dkI5gwy0yjGDcQ1d3GpmrnEs3mVKyhBWuPmjBMllKKs+Zv0\n",
              "0WBqttm4vtYA/NnfJsKAru68kSxnB7vAQ6VMZ950dY/K5JWQ+uapSTrxJVC3K2PPE67LjASqrOAg\n",
              "vCVWMdDZhdo2YMEYrjKmaGnYVZLjHnC4zztyenZqqx/vXCtDpEKmZoPOnDg2BckUcs3Q8xRRhjky\n",
              "LoDEPoqvGoT0Wbs9aP2y1l2oh1hawl6t4VGNZk7S9aWq4qINhBmOX/4fPNyHGANXgFadiNfqke5i\n",
              "y8o7r2bqHQMh0NGq0G1A72HRHMKDUpsLv2DD3RtzIWysFYBsb5nhkXtoB+L5aRdAAtuXJXKSE9Gc\n",
              "7slel/xdLyKcFhD/8KBiKBz6WUbAAAeBJf7qKLKb98wfTT7kID9qeYIhWmrwjfgtj7c0TaeB//Ar\n",
              "gC9Dp3i41BnSRRyJ+cV0qG03KORdMIfapOOuoSge5t1wLOYNwCZWPLJ2sW5g+WrUMgCIvErwhxXS\n",
              "vPMWx8gKUkdIQTsKCICVYPFlq3FUsEyPHZyj7n1Uaajp7gfXJc9YTKB/2tsf9GGxs5jJhT8UFFcC\n",
              "qfWEbR65admcrm2CTbGEaQhd6moDYIal+1OjCHz+CJi+ZquzO69abJfmV5tjInFuHMzsIBcu3wIe\n",
              "6HQ4ZtciPK5tcnSRSabvRGETf/z+9Ee/+FnAVCgaXG0HCfuMOOvsvXYkHrlHa3juN1tuDcFB5vd5\n",
              "/208iTj4W25iXGbLVdHq6v7iPkh6oPooA97MKCcs6w2bNv8qYKbrMYW/laVTzDf8WrkCK2Xx5WeD\n",
              "/10entA7R74zKepZloD+LThRajhXYKplc+IXhJ1ArcABf3pIiUnsby0vyM7uprynp3Ayt7Toc5At\n",
              "aeceBrU9wWj0lX6y12WR53Xgv0o5Q2aDorkls0v8U072qrh4oj3Q+zG0qGQsa62V2HHDOcaCwOIV\n",
              "CN9zAdMzW/xWNLbSVVhy03yFb4mw5dmLTr/y11FaH4mp/szblEG7KfRzN+jPWlpIXep3otvfaY3p\n",
              "K23fNlS6NfrIucAuNm/1mBcYC4tuTBCxfdJhXYUvHbmL/+8zeS1YKBneGs5lMdux24kZAlq9m3/J\n",
              "w9WLrGVtaDnXXjq3DqP0xq84unjtEHlxKG9D0hRQ8CKtGmUsra4osYAD+lP0zLiCEejpwR1HdsOh\n",
              "hBN9WQSxLOeHLveTvE8yiGjPe7Vh/TpRXauHc6lQdcMga9m/wkc/8phKZGrxrwiZtUb/BlxEbALW\n",
              "i+N8mwyfk8fcqnhps6EtHhJmu/mqzpG0u+WvTJMFx4pIQ6P/VBaC6VGp13rZxv5o0eLdBztf5VXz\n",
              "xzh7LoUUz85nUW6Ln1atuKaf0Xo4Tsbjj2X0qPwj/RDOyM2GEUpfBb3dgEu+avur2JiYdv8LR5d8\n",
              "TlVFt8+z+Fq0/ECS4KToXno+uWQbDzdAtA6WX/ymKUCqB5p29kczbsSW/Rf2J5JB+Cv6GsuWKp6u\n",
              "LJUcFqPZ+3pTHdJpfMaRjT623IpU5WgaID/pYKUGsG3wlPmcHGPoyuGbjlDqf1yyY2Y1lyn8Rprn\n",
              "4eCAfF5Kcxw5obaoy3VonkHcPe+qlAnhhbq/ccEv+1EQLQsJ1BLNxe43iHZVB3SADWZFl9SM/+a9\n",
              "Wm+S5Rn0aSeaUD6RcbTyWoEf6kfcNaJHHqL1sAm6mWBy8PmRdlm4nY/IztimX03TMMUzk5Gt/6by\n",
              "rM3B+Kz8VGItaF9GDqv6b2b16gO30E13DYqTnsGyCJ80fVbGjBDuH1mnAx12w/dpJtNlEHHXwEnR\n",
              "eiKAkw1NJiQ5Roy+KyEuATzz8vCBHusw+jkrDuawf2RbwhyONaiqkVP032qM5R+KG4xlqMTAY9er\n",
              "ntXXD02hGl82pa7P3OPsLQo5k981ZkoOTrGCCHq+QmztG9a4HHptSKRnWWRzd6Q5aCfsaOmq1Ku9\n",
              "laqUpvkY8Aa+8rlB4nAyHymAJuCIQU64Dohlt3ue31U8pILiqyOL/WhdSjCbB6QYd139l4NVmc59\n",
              "PGDwTn4/Mum5bkIru6xRlG4w7BgapMhuL8zlnnIUKe+nWtbnavLwGDiDu+/Vz0Xi0wFxYFAtoByU\n",
              "nxwpP5J6oESkqviVjnPe38xD+8ugnKcC3cYNhza0qcwPrNDyd+47CLsm6G/35H9GlQBB2xRDgc58\n",
              "QyLgU2Y4Fvrm/u5CD1ZILfbmmM3alkyGtDVetqB4DumxSImKCcss/u17PMI2MJOdLtP3KEBng0LZ\n",
              "eTzFasN8HGPFGB+aQzj4T6GkQtf+PpG9qr5x0Fw1mrA1EwH/0KEUZ/4qYbSM3rTgPYeR4S+Pd7ya\n",
              "Mn4qCg0hqlPdPEGaA9aLcmnHpMu4MWZRpTDS9Jwy/4Juuc6gVPw0kZAnqN8STdfJt4UkV0NDhwpQ\n",
              "nfIQf6QrneP1kripD28gU7FoFISVF5ZXAT0bxEWzw4flC7ih0V0Vm2oN7/8rJcnN7+kEjkk6Mx64\n",
              "lydu/LusjKIXxDmwXMd5Azc7YpLE5qjP+12JeWH9idaFBjdBxQfjHb3FXI5o5voKbpGqkJWCXAHJ\n",
              "jA3HxE8VyL/yEBvcqEBLuuKfxmZCF7IIt3Kun5wxFSsNXiTE/ZMIS+rFwKL1qU+D7aT4SpiEfyPh\n",
              "SzoWVPeeYD+KgaY2HiBgGE8fJpZGMrOv79Kv8jmNmGaza7LT6WYOJIx5sbXHLTR+gPaDJDyiF+Dq\n",
              "bTEU82o5+D5yBUq7aP6pCh1DU5sWxy4vJGCwfdoi5WXjmvAPNILYwUO1VYihJFoz8apcEZbtmxKO\n",
              "FHfdbO/jnSqtv3Lje4nFlovdIp/7QS40+NkIQcS82kTG4OrvxZfHKtcuz/gd5GGaAfCy91/yi9jQ\n",
              "4YiBdk9mhJhTbgW7q4KQEMu3v1bywoX678D9rIHnycGeMvo1rYAfV3k5ENd5qTJCQOlzDNOzXhQE\n",
              "MQ/cZc4i6Aymah+LD32jWRVQ5TbucUdl2nghchY+bUXOxKwJaoVdLeAKn9CtDEI0as3yriW8xt6w\n",
              "jgau6bXA2rsECyzNSTnHs/SYKK3TWyGizcELms46vSyUSuMa6Pgkd/byaZ4AW10yrlG/pCFaczoS\n",
              "eDd8Dd2KL2UoLznLwVU/Vlt+mu6KaRkDnhWwK1bPNaOkZYnzAePg7ZvssnY1DFsUd8B91OAh8v3I\n",
              "dHTY8Bd5eCZyJn3xyVxLRemCdQYjVvZ8UtQsT2k7yh9xQG+GCWK1zsRBGA03q2zSmv3LgwAJN/er\n",
              "My9GnwowUfpKkM/ybIaJwwAbRxAHOmUuyR2CtFyiR87Xa27JCWEsyeQ1YLxPrUhl+Wy2daAdt8hT\n",
              "RwXO685PbEVHgG2WAdbCqjZKyJWpkk16AFo3KepzQLz2uyM7PnGWk90nu+5DCVOw04deXyNhrGk1\n",
              "qkJetUPoUUWe/WZTGMwGOC3lcC57NU2mjAwa2tUFHxO80jafV3GXA0wYgDzAvKBV0bWLNmstLmh/\n",
              "1iPr8y5bB3zhcILC9eeYGl0YYvVQPNvYFqaxMm/tWzBCVbp7WYCSVv21jM8Bk/1NIUySznKm2Wmo\n",
              "IiaeFVvL237xz9qxB7MuikNb3QqbVvwBM3E9/yehvw8WeBx+HVrfvu+QJGmViOxl+8mcqSR6FEpk\n",
              "/JTZP+t675NqOIcTyl6mWaIF2cfhKG28BpEIWpEDJNzqiMo+cUC/L6tH1qaUY1AozZ44Zhqb9IV+\n",
              "ATfWY/XH387O364VwwY4pKjNcodlrPbjJxFJrEAsaIkSSjdcbjUj/CWYL+rR+917Uk5Wn0ubZRZG\n",
              "jeZimTjYDFqgF3au8IRy6/j9hOBnSHcQYUp5HgZZt9EOhR8lvcvwaH1+Su+/bVC4xBdjrjG5kl8I\n",
              "PBoQDdd2mGAwdaVNqxgC+cFSCyjf6FVNfmtnDCDI2KaPbwOloR+ERXvYfpq5kp4T2Z/XnJwnaRAy\n",
              "De5Mgq4r9DkruUk2ZHukUOb00U0A73jvpjgUeVUAifftyHw2Dcxd1RLTBqHMh2T6s3kA3s9YOyH6\n",
              "f2svUSSNWZWYMMbwHRjqCJkBOm/17u6jpfyRT2vOuIm06GjvnjUqEDErLb6QHlia4byCxPP5rmrr\n",
              "lGxxMsxmhmWBq3bcka0qIUh2TcG+CO4t0PjtphbP4Ycr37drOqPbf35/UY/7dc/A1wa30/6RjTS4\n",
              "qPMrn2zmDDG8B0YJ8+fXUbtRhCJvF8XlCp5uICOdITgK63exBj1LWEPlv6mKY1J+Hd96GIWwnces\n",
              "3zwTtkZxke7MiaO6jskFo9TyPqUZE6PfV9HeUpGoBX1+HZUU0NL6qyE2F2RCrUV6FQezN9ksMWtb\n",
              "9BXYNtqmx+jGED+5PCXYwH4/neIZw7nYq2FO72iZngrVgLSKDNfwz0NXsOwjaAVedXZNBOfPiEb0\n",
              "++YE5QVBoMKwAAADAaUqlJ8CUzHD3+GYJXhzw4BRuhGFaTMUf+qKktQ2e+wdJkDyJdDQfPJrxOkW\n",
              "5EPaKoI8h1afmvpr3/ve0XMHQ0aSjzRcqDlb0uxdwSSI4YebcEzPq9yebhOBGcjnP49VwAyyWzap\n",
              "Q/kiFNfj/N/H+6TAK9K1fC2+toTTA93Kbb39VDRlaGkYVyDB/mp1Zg7abdtoQmrJ44lQl3/gz9jr\n",
              "/rnq4vK+RPZrKXBG57H/CchpRQyg9EQzfKRLzb4MxOenk5k3Stblghlg+O4T+T8u1gqH8nwYbVH3\n",
              "wGlvELEXBZR3BfWxI+Ua8YvL/hWNfXxgZSJ5ZxW6GeXLlleyc49ZT2bKtrcKb9w/JpF/CMrE0sbv\n",
              "rJki7+VHbzbjjHbzKzA3P4nUwZ17AtRBSrAqAhA54mBFCNRc4yK64pmZNEFrn6GqycQVitjGjAs3\n",
              "8AAIole58/nAVd15dNQ0O6+EMj7200UYJMAFRJ3V629h1dDB6OCnSH0neeC5a1vtzglDxGaxupoI\n",
              "7FmvoFkc4zeimzeb7MJHjBwY153YuAyVG3iZKm9TNNV3cUoT9kF7DtRyvapf2TJ/bzdtuxoGEzyI\n",
              "IcjgINdqGfOxpDcr1V7lVV4uiq0HyzoEWrzGykJ5TFPjHkLu6SumbXqiw87ZeigxQWA0j2U7G2Qo\n",
              "Q16854PmXIy7nXQZZrA2u3KV6P+zD7OtW5Idb48E6L+BUeYWDIcqrWILFCvfC4r1bff/wxaJ/zsM\n",
              "MADlcxBkskEs6Gr1FcL+dnstAxf+OF+7lrZRZoDTEeKbgl5gunsodPt1N/o+duSCkON/pygvYGTA\n",
              "oww+2vy8kfnrxd+cvNiafoaEDZgnWGopR2oj4EpKayJ1mYt8Z76H7jwpTlHbV9MknyJ4HnBNS63X\n",
              "xvnE0AAlDxpugRX7KX8xtpIVj/C6umz2b5NDBnIufdtfiwqWbnDbi2aIYdXmeXwc1DPXyp2/DaXm\n",
              "WXd97W+bqbptTl815w4ONG8PsjFx/A4H3R8yY0tHX/7JYTPbkq15y25gApJEsZtyhHFA4OZOYp/6\n",
              "eShPX6+GmMZ5A//V0jXnsezpQ/u7kwm7bii+qT7unQ7IjyJo31Wiv9xKCr00ZK2pClPpuQ4hJYWD\n",
              "BtdPDaCHPRMIcffgWz1J0YC1WMMJAE7C7diQyThM3egE/TN8olJNppC22G2DNmD2kPmXbpPBTXqT\n",
              "TOr0Bqs0344jbplNm4EfKYXGTb6DpPbE6pG8rZI9m8Ehq69t8T74hiXGjfsMfOBppuAYvVLsbq4u\n",
              "n2lOws/jqYYG8UugqIVGWmj/sO5g7JssvAYFAIHAbE0HRr8J6jEpa6D18GORsNzkaN1KWoAW+8LB\n",
              "hU/I4Jxt6ivE/2C8+L56d2YQP3wWT9bCyO3E6mQHsm6Qzmw5uem4f8IJ8GkRtAjLsBb4AQwQcrsq\n",
              "W+hE5zIzeLcoqx3t7LG4BJFnUBUNGMbMEOKLQZWKnSYKdClF1A8bXVOD1hHp2O3Mf57Nz4GIstLB\n",
              "/eNjqaGlsCcx7BAAgWy3NYJdj9G8moQ7SqCQLaxHBsdqujmR4dMIISVUoisXScLS9CQW78oopb4U\n",
              "o4hO9eMxFN+4E3mD+cRvxVZ4WbTD1MF37M7ya8sqtOosDRH76Twzyqp8e4qwAWwJI4MlXcTWeKfS\n",
              "0z3zByGnk2jMVaY1+z5nO+Aatfh9K8/kvXzE7G7H3lihuPo9uJgeHeiA02i6kBVTgkhmAMDTdpBI\n",
              "x57qTdRvmo6lP+UU5zRKNfIz58WDWNM5jtQ37tGlQPH3V64oubH8qCfTTjtysuLzDWHEf3qruhpR\n",
              "MRP28PosyxVdhhsLmLMkiADTMvQM6EHNJr9S53w6x9g7NodFurrWOQVtDJO2NAgpEB9H0h5tV73c\n",
              "xCpyILPk8dcwv6IdljCpcNVfnRX+Csf6RPUulU8MLGunEkfINTh9004C+dTvj+zpW263AXhhSsAP\n",
              "mMM+btfh2XmO7s43n+9zZ4woKwfiggW66uCdJRFFLrFZcTGjQcb5M9803B9n/vxTxGJZFFSBNzY3\n",
              "Mdzq1WlFaQxZ9UaTOOxKAYiBkfLP1TIeNbVh3ldfwQCNp9JKedpvvMcHotgbIhp2N7d9fx4sH73n\n",
              "dhkTfPu4Ao6VoEP/lTYBpVSrlJZJg0pgO4MN70x54KnML7vvN9nWL909xLtUjoD3TY8PlStUwN1/\n",
              "0+qeIJzIF/Kpn0/CdyfI0z/rq9T8fAhIp87glcy4OkqJJaXNDTTbgSkwhL4t4muA7hUKJIp0qwcC\n",
              "hpkBgyAnlB7H8eXLiOshU6zIl3015jRko2eBqXECSKAsPMAchYItg9BlonfX+rduOdOycyluXaSi\n",
              "6nYzCTjWTuDwSxpKYUbpZcCbDFn4GCdfwovtjKCTdldf8SdD9g5NgeLy/KpLN7yAuMTPH3TiNYZC\n",
              "ac/24skGkvuSui8pFb02FP+9BLG9Ys80GLbFXSVEFJNhP9ivDUrXXgVY1yaXDsVK8fDkYLOjMgsG\n",
              "zmHYeml+L5lpeu/xN6acVBA4IZb0p8Ea6YqWaxX6rYpVS1Pvvo7Fo1Aj1f2TId8cgYE5d2oAyUfY\n",
              "xUa57CLQNSmCfKhMV2S9PpjswseUHSdUkdGCfRrce5/1rP0X5RlgcrbZa3UjUNQq0AxlcOn+i2hA\n",
              "EiGLPTXoax8WHgHMHNGVCRRbeHy4O224Uztyw/M6Vxvhhula6WB1q+xer5AxlkisHuPLEa7QCCcO\n",
              "wNF8nLlVIf5Ux0lqzQz0JIynqXLjXQ978X2XcxXzfnHuh9+RwzXmtwvGvP711duqTAAGX1eRh9/9\n",
              "tPHa5pPUYvLbKG8L93ImhXeCDPa3v2B7d5z22pWgwtlXlSrf7VTpDHQM1TEVk40huKSnxY0u2KVh\n",
              "f2W6UnFCeKcN7KXk8o5W3tFfG4JVTM9XtOGtTh5zCRMBhFeiqAGX6dfppuyodq/EhOvIkqSlfaLS\n",
              "bqVGJUzNDRTph+aan++KqrsUYZJhaU9cRjklVW/IfcD/vl0LUa3McgVmmVJ9aC3xja/7U3/j1grB\n",
              "dV0tIvxEhq+W9Vqpo8zKnS02EMosE63C1MHSxNajq7HdV4Xbhs/5o69sAL40ANTuj4z4SBN6q+UK\n",
              "skTMUcHJBIECvED5hhubwGe8aoyjT+oMuvp53IfNdRGNWkOSUkRFzXTFVw3uuyfv4iI3O48C3ROD\n",
              "IqN+mANetxwMoB4OKmXNgS4obN718qlUT/f23Ya3tFmyHzqNR7Q/AZ0XP2H9Retu6WZpXaL2xFTr\n",
              "36C687TEgrgL+c6JsGWEu6ufrm5b711ZG+vF5VTJzEuIodu1aq8X7M9QIqPgv9Jys+/saT3/ysYm\n",
              "VcLBuRP+Bh1bY+F21TrGkRPkrlzHTVTn81oUFxBZhCn9DmGxGjWFoBR8yGtNPjt9UlGNdiFWeLuE\n",
              "4n1sySoFZBn+D56yIjMbkCUGHCA9I6VsWqD4uIIkqD+MXKixE01Hbv7vLpbNxCL+MLvnZkPJKLpe\n",
              "VBZcn/nst+/YoJxJ6oXpl4nkB2OVL1ekypckw3lBHiorxR0P28+uxIUUVNTt3/vSkspZYdzUgvcS\n",
              "sIi3+yFQUaba+6KyQOFSBALtDUIQXtzNuRlfgU2HbqPx2phorPg8/2GJtBKEfropV7gvyubPf5fl\n",
              "QZNIAojnfnQVVT2ZR2PdlJQ3fSP96N4l8Z7QpnXplnZh7CQpaF9l8aEl982l/YLFdUWGKNRBAYmf\n",
              "BLWkjGJZXuV36CYD4xaWtBc6C1jlVe6F8qFirzcVmUgXjau0iJpGu5gw+b3H6bVXtZtpx4yImvdr\n",
              "+gS6IDVWhSFYfT74dE44pfjBAarE4M3A1aqkC9NcwnP/16lF2+Vs7ZS1Kq46BH8YgH4sY0TcIo25\n",
              "azR7toAR1HT171rhNs8Pg+QbO9L/2Z/Rs8Iganq0xzNQWM8IDqQIVJD+kFalwKrNv3jifqWdrNG+\n",
              "UiCQ5gAnpdwson+ArxEU7l5gr1ldYWW2MSzHrABJR5C0B0nSs0sFB4xmFrywN7NRyL2NMZfIaQko\n",
              "Q9urRbpMXZDmB5Q2iDktXJtvkTkJTjzMfTWT4ASKoHlVsJFJLdeJe9l/Cx0fsdqaCqIPrPLOdTXd\n",
              "PZBEpnZF67yEp2ryncQFcDN6rs8yexJ4fRfVO4lYpWucLIiUrDpc3wVOYV4RRxGTniQAc4Eidni0\n",
              "/odE0/+ymJ5yT/uT+tPouJU4BIHxk4LJAsMuOGVOnC1WxQzUkUo4Brx9MZLqUABft46dtF1tLmC1\n",
              "mqT+M8DAP951kGGbLWcZEo7tvXBQ0XGmyM7DqPqrn4B/4DvWUNZslMBYJSNyRG5xHEjc52DrVPz/\n",
              "W6JgAAA2ucwCVB+WWMf09c0l/j5qiMPkFskW6to3MXxqZIasUVXJIg86L2Ceto4NpAIfWekY2hnG\n",
              "DNdhuUfqwAAAAwAAAwJnAAANkkGaIWxBf/7aplgAFKBjVzRmmAAE1fgsGHN5zeO1WQbybvYywv6J\n",
              "le2k4RQyWkDXqZXvLH9Wn1IkeYASQx7ctifQUTNBgyOcV8AcsfbAW5NwEbMt1y5b/Dveo/zoR8ZR\n",
              "u0vQrbbl3Yws7VDjJ/p+v5y1otNcAC0qc1GVID6OsaltK1V56kRgkZ1HhlmZsz9dFn9WumBVy9b8\n",
              "jCV9dawtKBtHHLE9wczDKIDhGghWE1ToVMWMhvONYUj7ItlUVCbrWvxXmfODXpd57Lh/ukfUW2b0\n",
              "FcwDbI0IaXzPV6VjYlS12b7rVllLJIlUIk8LBUD6k5L+/y+mrf1TqFLy6dsrpMvRNwCX8kRNpIKU\n",
              "8RWwrBDmZ2vU9/wXgzdWpD0qdDWPzu5gKe6jQ1b5q748aFjjJRWFKD25sacOlR/w9KkCeq4ojgx7\n",
              "8zxnghVTYIDhfJUrMkXW4eKBUmM822P4Bgz99ODjNFPoUChCqylUUlvUCC4EFsZyUGkSIuJB7n8a\n",
              "vj/3z5TzS7M3OFcZQ18iCQNJePW30sVsiJOGi6anq1vvHeBQzYErbh2JoQfZ+a5LXgyW2QeYttIF\n",
              "YjjrABxDmkXh7NSOgZrdG/hTWkJ+cY4xTSh3uP5jXs3hhEOy4VGJMJpfj9Zi6df+XM97dwRAvjnD\n",
              "KAYkHXc2tCjVaN3zYzj1WIDUqrdX+swusQWciZ59YeoF0z104GaU1ihZO1i5BEv1IzXFhWwa5FQ2\n",
              "2e4wmZbUYeHTkquWxzJXNpcgqo2u7eLxML0XOpOVT7LyMI77ScI5ZjPMuuCI2dH9Cw+fpfrkNOq1\n",
              "NnHjfBBnRWzlYcK00a7Mew5sZ+DVUfyHogtslfjA+5xq75GShCOG7KPDrhQEbxRCJQ0GugOOVUUG\n",
              "1MFyTTq8QFB4lBc8EkSnCGS+IEXaoVCwwIMkbtM2vBJue1bbyOWvQks1KnsmV1qCFWzP3GktJsSo\n",
              "5b2BVolN3wvfNY21krROoQwnZBzJ0HE/XHnnX4stBfxpklwHL7Ko9pQjkwlP9u0xdUFg1sfwzDXQ\n",
              "ob57uPPPp55mT2CEsbAZOO1HXMu+v238wZwxZIh0/5gBhBryOMouIVk1n6aPocf0SkuWbXiOCnro\n",
              "ZVmitzg4+MlmCCNHHqV9VQP6fIFQBaBTvvnDwRZqOy1EFSY5fhv5PKEAeLfKYBFqDQ4vT0jge3OP\n",
              "YXHG7SvgEoLX0HWpySJCPYklWcHemzMIiHNl4RaNxrVKMf+jGb9hBtmDYz68OEAh4ZBpYjxaow2X\n",
              "i7MxrWT6bo3ZEHiNq6AmZJD6vYJ1MIcz3Kf8Eu04eRl1dyRZEEQLLIIh93zBzFAmm0veQROdJPo4\n",
              "bTAa9aEF7GJmCRNQATFlm9LlsCIO+NDXrXhvakzjVgQOgS8EymVxlR9BEY+MHz907pZN7V2E+jVM\n",
              "jqNDLZnvS6O6/ccXG8/TiCAhU6zGuH57oYHndq0GDeIK+o6ztz/5T+x8vJKKF4PWMoxpr3cJJk+e\n",
              "xpZzaw8mZ4s/2hKbIjpEfvVZsi+1ygCFneXE3J6Ou0mZqV7Ot1cD0BFK1B1vCHT1DxKEHnNhlk7i\n",
              "96yUq+OferHzfOBisknBxf8SyCGZy4x5vlz0Ig7iCXcnaX5KJnZBmcPwBmhIdEiCX1psBjSrElKZ\n",
              "QiotxYMEX4+TFPlPB9lhpDz2HiBjwW6kZi/eG6uJqv+Pxgq8KOeQV0NzGvh9XUPlPgVMBrsJ+mpc\n",
              "L83q4JaOM/sfOxNk8wGt7PtNOq1ar2+dc2DnMo/TV4VlNmYV+2lQRfP/keR4yZ5GM1vfpMDnRTGW\n",
              "Ru7eT0aAr2Vl5j7NqNcDNKEnDa7r2fYNcxw9+MJdyikBB/1TjW4KVcuOYJRXcJK7Ab0WGSO6mDEC\n",
              "hNtutTgmBbycInmvfJ7bMI4ZVgpMn9KLV9cV3oxB+V7yEvpHOEeYf4pVeDgeTbIeBhNxyN7Y5r7T\n",
              "Pgg6UhbBzUtmaQWy3VVYJKGA6kRAToewFLdsmJ5fVShmk7smpis0uC6sx7KiPyQ9I3HTUxIAUMHq\n",
              "hw+ULdafdxnZuO+tt4CjUk7SKHw/lIOdUTXbWleVv39lmrvFjZK7LMA4s3EuOwK9xhhMbIrydhi2\n",
              "hWVtBdcxVfD7AwAguhHZefRTRQP6KxrKopnD5LH4Hp6VPJ6bpsHEck63BzM9pQp8cXMdmAj/bt6x\n",
              "FzRzdwdgRs20cLHDCSfMDDQg7SLsmmczvBQvqbGezanoN3a+7jX4GpEMYfoFkvkVTVRPiy35pGfv\n",
              "r6zV3MWBmSSp1jBGRUu6aH/eCjST24ypC77xPq6/reUAyWEy+ccIJjoab9pVBbaH21O9VM5ofLI2\n",
              "rAeIH4LfK9bG2H1MRiRdEHWhduMVFfASoAIyMlSPbegaVn6+SkFKENxHu5wKTz1S5wQTACEwi85M\n",
              "H3j3z+FdifMoSq6kItC2uNVan0yg9cqzAU5V1QOZkTzzayDHkEqyTf44kR27QusBM+4780pckRMQ\n",
              "rgZ5QJMXuEDNv3JY6pVCQb4IFHrqky7Ai+tQPaDfuAeAY4vTj4e8B5R+4wGXA+jaS6NzM1N5ysnU\n",
              "t+AGA1Qxf3hXjzEfhCy+C46iYvzRLCEDaw2m5iqZeKM7XLOHceqDWwGr+nM2BymRP1AkD9eSmSoG\n",
              "c5tjfVDJxqeIVbYEC7kr03hxa9B0hIzMox7Irra7F2vlHyflPeCEO+GJH9qItkgZdUovl1Xyzlbh\n",
              "YIWiS4EiKj9fCoVi+FfoxdKU17FL4M72+GXKIgl9FUPir5qaTftfdHgOiBCPoEC6RSJYiTqS7pDf\n",
              "PntW9UK2q6Q6TdzSrJaMzrJkbsbe9I7vxaTDCn6jIqqOfyeQ5F+Nr0nqAsQINTrpynuYxRqKytlC\n",
              "dUKWYv/m67EZE++CmLnZ4KjZGpF8RFMPdlB48kIY2xib0h4vngWJipteOHVn7nT0+8Wdhkl400K3\n",
              "PE0BoSjLA9H/DJ95GZ7tJ1UrToeZIm4dVFmgw6FCmjGXSH2Neg+8uPhices3ud+GkzApsGSobm4H\n",
              "ocIUnf8oJqXUKkVSqDlTeqgZTCl3HrmLlcXuqzsAlrQmcyP7CtnOQRO7CrUdUNDEILscmeFSeX7O\n",
              "ffXuYIS720ZF2ovcrjk97M/RHcjHDMT8onikWjcOvW3L3n6DMZw1CAvQyeZWlVq74R/C7dNhod7f\n",
              "KohaKM2knbTRrNPJ8pJPFh4jx3cy5F15b68JCyoa0fFE9NS4ptboiScLlJBCjE1a9IzxOxLqLmvJ\n",
              "7tPDny5+dXzxJkDe/OB6TPU7mcHc1sHRTLWPZDqQHU4DSc646/Nm9vqEbDzCtBZDdJSZJN2Zo98Q\n",
              "vZrczk2XubKAOHQlyvqHxnV3g2Ff4+f6dHp90E9nlL3YnFsQrfm7bZfiEKK5G6o1tV2O+HV8aKj7\n",
              "kCrphLJgFaMAWlIV66/WXx1e1qBUPf2l+DlH9vZmwyLb1OWUu6eBb+90d0THjX/UXO+jE1alc3Ci\n",
              "Gk5WMh1B5xwYZRiC1/Q+tlXh0OWczXhusWOToX8nUMQ6Kv/0+RxtqPCV1gYXFeJ2KObcfBbHZiny\n",
              "OTuPTjDGEsna9sfLDwGkRk9GJVgIuG5RxSMsTk7TZH2rGH939ChFHSP7uoYyAiHDTMUIHZnVGOtl\n",
              "V2Rtt6B9jowwhcmdNIIPkOXv7f3KNdAAjRdD47XnQORm4Al588SWtNAJ8gjTYtLr3dB76zU934o7\n",
              "5bVmFnNNCjavMWpMclbGH2WmSwK0hA2JGSnYll84tNNtZzsRpiih7Cxax5xgM421YoQQ/lbqoorn\n",
              "GcI9Q9YdO14w0VJ1hIu2vpllCv8CEK3hbPUCyDqXWdSYx+uJlSVVdCCzdIkqMipWi9PHB8BfSmNL\n",
              "4FNOYiYRx7XCSHndzvVV68WETAhr6q1EWNuzzkJcL9cVRufLvb1tTUTp1dAlqAwWSZWAUCHtSV+t\n",
              "BcQUKS2BkIQYqA6Ro3LAlZDauNiP32qcV0mkeP90c8TOTfSjpJpEtTqqZ8DA6mOmQeJcXf6+IFFQ\n",
              "rwUedPryZgk0zSkzzdoVHyvL7q2XsCuK0R4Tu/e6sNOdTpRoEQe9hqvJC45wN0Q4jv9mg0wrqyQE\n",
              "7PookW7CrFRGuCmYsQNOmr5mxEK0zjxolYCStKV+5IafZaZPt0qnxAOoz5W5CcFXlCG5ERCWqg5D\n",
              "+5hAufQrZZ4l9kDrbmwYNlrRxvEA9PoIBZmdvllLtqDqSmw9lSSvOO+zVRpbSYHtyPswbUUvYZ8y\n",
              "6da6oAjPXOv5mm6gv63KTz4LFR0dmvu/W07HksXNCQNsST0l4AQc5I0fx/GiawoEWCpz56C9gPj3\n",
              "LLjisJisu1KN/i2xdxnv0LOExwxFmxSpNUL2OtlCUHjqEADkmAbleVg15GYu5viWhKeSdojI2AFT\n",
              "oi2KQO5g5EtX6lxLkejwa0p/DwCAEcP6KPJhnj8G190tFmvLXVtog9pEks+druXefY2SuCnTcF71\n",
              "29qJYWQ9CLB2Cv6isMUmjDWwuc/9I/RIRscX6S+nZ2a15/pPrQ4rzT0cekuzDSB74Wn89nDRaglC\n",
              "kpuOfFSx3tKsxLOk/8ccV3KwTVoeD1P2hdp1hBrTdEV97juGsUhgAOhJ2YgI6qZ3GXZ7ROjHbone\n",
              "ODAcNTaobkc6tnRYWPCLgAAADatBmkM8IZMphBX//talUAAUnzinv7cqgSyiAD+j44x8ABcg7gut\n",
              "K/J7ftWbUwq8/lCr74BpmnNPz2dqQUjAIAOLV4u9gMqnlS/+oHZY60COdbYm9GLT2eG+9TeqKGKE\n",
              "npddZr0geTIukrdXPl2lC1tNLg7MF8JL8f2cfTX1O4lgb+TI8qcgNJ+uHIfQ3MyTX07mNO+DXsVB\n",
              "R/+LillvLQ2mIuFKWSdWmNhLgBzImlqpUGVa7Kj6wI6PWfH/kYMtb4rb8T4rlW6YXgRuLytlB1Fk\n",
              "SsQlrOMbo5t1guV9H11U6WoNdQjypmDEDKav4/67f9QaF0hITm8KPNkV1lPTzKf8ES8ylvVt6vjL\n",
              "8L6r6y/ap3thEYZT8QvQoPcp4PXrcF3Ytn8sQjtWOQ5H8lyfhoeZ70gew13HOYa38kIHd0Xt+8Vb\n",
              "RSn05yHiUQXN3d/XtlyCaX36zC9R4u+AnR+BdzqpF6NjFPm9u9mwTWF4EAi14Ca6N/pHE2w4gxab\n",
              "NliD2kzRNt26AsCueEHB0brUyOD8MMlYBMi00Xro++8oSCCO9W1iCxClZAttolFUeq9biH5J47Al\n",
              "mTGOA2I+aF77dal0qF7uev9Bb8S6mnQqLoUazavrHQG+hlNhiVSK2xAJep/IewZ6Oa6x5DfdlmRq\n",
              "7F9z0cKrZ/8HDGNLGqSbTZtQkWkNzXbW0/4FJhAOqGxE2JeRdWYolOo2Y0WRey+lVgcA7jGZfRhM\n",
              "pj1ML75kXmXvm2gX8Jr/EegC6F+2nDgzUIXQVM6ZLnlVY6Dx4MH4VGHYTiJA1p1m+PeLow5KnOY9\n",
              "dxjwzuiOvo5jMffwts4MZz/iGFXluLdXMREulQ5yxufY9EJ4Sc+wOadIECSfZmWhsTsjBHKSHwUL\n",
              "XHbNI0htengLTlk4w5nItM4YwJtle3bSospkECeAXFewNJwpaO6AmdSzKvTna7jWo+jcQBSDbv/a\n",
              "TPax86Ffabm1QIUi8qT+FbsoGnpE5xzidoPOPsFuTd5g/+53GxH/3hDbjc7uoZQkyT/rhO2Z2KF3\n",
              "MhXlo0iHrcLyDlHcYHY8WpjsApTrt3ue0duT5neIk4vTOoB3zZKwgJnfNLU0/RvlvalLM43h4uOQ\n",
              "adPMwo4Z8AExJSQE35bCWRo6DHgG9lYFCI7dCuUbBTAyva5C0ggoOnDUMqjXYvJBkM/EKaFHGF9X\n",
              "JAEywPJ4KXiTfcYbFlSmdy/Ow99X00M4mQnRuBAoWJdnlrAJxUZK34hif1KQ24hxgUI3hgAg/AJZ\n",
              "trxyprQTBixTsR3ew8UwcvRioXrYnlom3J7L6wdkxwyXkIDvh+eElnu3wzQUgfzKT8IkTQdL9bNE\n",
              "jZAwV2nD0hXhy9SfG3sKsNDY4vAmFILPQrboMDTf5nz1fMlOjtDIzK5ME0uHdglQSiLq89ezUdPi\n",
              "gRWUzNGSwTA0+9lHC/b9cSX9fiSxaDoW0QDVw1SuH68Ulzn5v/JYY/FnUM7mK1V0r12fO/KVNqxn\n",
              "N3jS+qvA6N+aqbrvM46n0PLe3ueflSqZ2OLnn/uKWnN/54M8dTiCWaDlrw4NzVJxwhUFUuPJpiWe\n",
              "A+Gck+irbMKoC03pI+76LHxjEHF8dQT14kq9hmcNjrUo8BajWa7OlWAVV12S4zvmKL9WxsylbEF4\n",
              "28ffyEWuc1sgePo+9+VLGhG76/KVyXRPUuTJ4Uzu3fGgpx2MZFNIxdTOaZB35kvBycYBNzSoaS+m\n",
              "wJRVBjFNcrP9T5Kr1Yc+4BSmzsJUBmlVN/GVjoDkWih+acyRkvZXywkrXXg4jJYvR79KWobJ23Wv\n",
              "wZfWYHQZCW9isjuGxk/jcXuBu40MsVpQc2tQkP+ftKMZhTQZvUDvYy3ZSdWeGCzF9ShNAgSFwCi6\n",
              "/QV6gwqFGO2WKzeie/Ar5nPf1mC3+gLR3MJgmjRACNqIOiGhQVhdgNu7rjFS/zGj+/o1Wj3PPq5J\n",
              "1rYF/4fp8UtuzfjJIaX+DbtFRU7NUJmBynipt1owiBKptC4+W+XQhUBH07mkUwZJuh0IOPI++s6S\n",
              "zZtBXAr4oeAMCb44rzSobpDcesHU9MRYsDKpUSE3naUaAY8c5rY7LmVrc+XNGVU0vM12dpGFl+cV\n",
              "Qujq4mXAW3O9uJFQK30ZXFChJnbcWHThl2DDur6RE9IOn3SzAMfadzvADf+jy00TcxGXNHHuZAyd\n",
              "eCBo70K2cOfRg6TlfPJfClk6KQOHxohYUv8fdbgFsZ6Ania6b5uoOEzZt6k9H1STe0axOElKFUGf\n",
              "1xnD8KBZodiuvLS1G+IF3sZT1gyBd/w8x9BtvCi63tQRkUpRtoIyztkXR/J1a1jFh8SkqDxSP7B9\n",
              "dhb/QHk7mEwTRyt2mQAz1c01AKPDqLmtnMlwQuUJB6VfsLKkqsxc+vOPAqDyouQ5X1n5GQXVVxng\n",
              "sEZM/APDg0ciuZu/vpVVN3YHrQriW6gJVPiV18PqihsFMIkrd1BP2bL0AmiXmql6bAUWs3D8xMsh\n",
              "/0nCCGpnoGfhtho0xdYcBOI8TWzhHr8qppeZrRmOowg0AipkwyIxiDEKri3S1BLNa2rNO7V4YFQe\n",
              "SZeow718RxvlpFWvRoLKlKy+ft+82ogsJqu+Km0r0Gbmm55OWONqgo0m+NaHDQP46w4YzzAZZvGj\n",
              "aUOTy4ej3AjBi68QrEnoTxX8XNt00MLywUx2iz1IkUP7JXjd0BvlvST0Oji6bmpF4Wgoh4zksq4f\n",
              "p6mgSDl1Qc9PAQfzalT2LExE26/siAWGWEcZf1ZqnwJcCQwimLmn9hlwdWRglODO3RiW9LM0hIYw\n",
              "wXLlbJ4mYK06BWT0fXlfRGo47/JbZvLJvEQvnOLiPxxTNu6ENXu3GBvgtQACrdRoB5BYrhSrp+nO\n",
              "NtUvJ/XasGsujNlyAqiojDQ7tRahHSpdJQmM7cEIbR9UVSxW6CkQYGzLUCMzhGtnhRBC8d0JnPZi\n",
              "8xOthyjyN40M0xiF85xcHJ8qJuzgV8zJ96GVdChU8YPHusJeRodRHzWgMXvfJQiOwAmcg1OVwWlm\n",
              "legzcz8gttVbUAvlPi+6JZaQr0zTfkFWCGNouI+B+eUlKM2jBX7sf1YheeApjXP7Xd7C8r1UmMbt\n",
              "TWu7RC1d15nFroNE7ay7Dc38rqPXJIIiIztpGrsF4pXzScOoFzeSqWw8W4zYj8qBrAfZs2rje828\n",
              "g0VmEpVAQPNYoz5hME0axnsA5NseT3xN/1hY1/NxA8OimKLf9u+CTYfYHP35be43tncUSoWe1XvU\n",
              "/EKALRrgKNj2AIdJkE71pTCgNqZ94uNhASaL31nsAGNg+/S+WnzJXgUy4H0xnGefgLYIhrkTKFE+\n",
              "4Wgi5RAeqAXlFhRBZTamVUTkG+VjUwia5sOWvaKp/zypY0a9oheLfKMSmRjrIeb78pp5me270uMC\n",
              "zqcf1as5NTnYFlTla/iQC/nLq+nTbB0HYf6Sp+h2KvhFpuC3FKbOwlNyP9daO5UHPVG1qeii3t5z\n",
              "8PB4YhrIK3PPB6HHvC+F/hAvq7oKLS8S8p4pGvGUH1bWLi1Be073Pj/pvwe5U30OdNZgNaR4aMgO\n",
              "avkZcdGETaLSveKlvdUHVaFZG6WV8QSLqVj4U9DBFIXZuxZd0fJkcE0OsT8sJlMorhKxQtJGSvGd\n",
              "kckC/sLjpHnZnTiMfhrpG/Nb9Ay1v+RcgitIJANvYIiztQ+OZue4tPpXO6h14w1RD42ZHoLQib6z\n",
              "4PbS70x+opGSK1IEEuB8u/4zujaN9vKLyBHdHHQ+tnK1/UogjJa1nnpyXGS6HtKhySdueY8sSZPU\n",
              "bOeVLGilWJTwusv8jeT6rt6rWZ8UGynbrfFuS1HyietZbcgut12sik5f+rGz05u/5rJ5Ukw01eEM\n",
              "BXJHhIl5qpiP2+LHSmI36wm7lMXN/iqtW3QKV07VfXXq9AXI8AEOoTrlu/K9a7rQU1HlRlrC4rYw\n",
              "2kmgX1UtFmWPup3UPSq/jK33eUjvOegJqRDO5MsCHEPZoXZYVbvBZPZFOKLMFf83zqb4J5o3e+l/\n",
              "qEKyN2v6vp8YEuAIpr/Xi86x1obPIL8OURP7iIm235whzbLEPR4pTVJk6f7F4uNC0xmJD/ot1ipO\n",
              "PwsR5wasjJP1ANioTwHCqBMTpUIVCs7AGQcuIlpq4Mv8vXPHbrlXF4kh0Xwv46/XZ1Nw4PlFH7Ac\n",
              "azqsU9ga+ZAiGGOJFPyHb6W+yewCeekn7NDT56qiDtCAjHQbJ9XevgFFWIr2wlq4d2ImnZbzTMko\n",
              "LVFQbMlE9NFjSWw/L0cjLkC2j8RU53IRpX/AoumIOB/Ui8mCR6cpLPXYC8bSrtcSn8P4dcCl0ZQZ\n",
              "UJaq1mfHjTaqJ503DRFiwBcougbRY0lsPzAxzDuZletHKK+XizIOHS2yZP/iW9nXT5B5Izdq2WF3\n",
              "55ZHQpye9WRgOHo3cF6TGS+bnFWmtrl7hL5w7p2DNStHqD3Fh5w0m21AkMIfgMLgjv9JsGmrC28Y\n",
              "LPtDBSL7pCiBKGM9B23Vn2OZrvliHLtMJZi1ztEUdhURJhtmrIyHcppwKKVc1qG6IAvb6cR5Hjhu\n",
              "GcOIl2MWPTAxZvEtYUuRKYSKmfcGv9kXIqMyZRqY+YMMmz/sLUDk6CwHZWInUVXLk1ry1QxNphEP\n",
              "xQnoPKgiE0MmrwnASZl0s8IHQEK/c0GFqWt6lW1sBFYjzxLvJvuHkGBBAAAA2gGeYmpBXwAADb8J\n",
              "m34ATUtyNeley55TmSR6zhEJvVR95njrWR+gy5bplBeI6u3SAWLCkxy5ZR0QioRvVmXIxbOF1+iZ\n",
              "E3aOMrUIctl07Quj5MMvSOOsd5YY2gDEBzKwD5pdODbEh/jnNeKQ5VDPS/WgbROBoeRGuoOsWxg1\n",
              "yCsv2b8lwfKi0nQb8rMIlBT1WxQ6WYtFQZYLN7aSZgHA7SEiYgnrx4967AKYNFfcOTla2DuNL3mf\n",
              "NYoGPKry4Q0O5wPxwuB7fSruB1PEyvTCSab0knVZ9Agfl0EvAAADV21vb3YAAABsbXZoZAAAAAAA\n",
              "AAAAAAAAAAAAA+gAAA+gAAEAAAEAAAAAAAAAAAAAAAABAAAAAAAAAAAAAAAAAAAAAQAAAAAAAAAA\n",
              "AAAAAAAAQAAAAAAAAAAAAAAAAAAAAAAAAAAAAAAAAAAAAAAAAAIAAAKBdHJhawAAAFx0a2hkAAAA\n",
              "AwAAAAAAAAAAAAAAAQAAAAAAAA+gAAAAAAAAAAAAAAAAAAAAAAABAAAAAAAAAAAAAAAAAAAAAQAA\n",
              "AAAAAAAAAAAAAAAAQAAAAALQAAAC0AAAAAAAJGVkdHMAAAAcZWxzdAAAAAAAAAABAAAPoAAAgAAA\n",
              "AQAAAAAB+W1kaWEAAAAgbWRoZAAAAAAAAAAAAAAAAAAAQAAAAQAAVcQAAAAAAC1oZGxyAAAAAAAA\n",
              "AAB2aWRlAAAAAAAAAAAAAAAAVmlkZW9IYW5kbGVyAAAAAaRtaW5mAAAAFHZtaGQAAAABAAAAAAAA\n",
              "AAAAAAAkZGluZgAAABxkcmVmAAAAAAAAAAEAAAAMdXJsIAAAAAEAAAFkc3RibAAAALRzdHNkAAAA\n",
              "AAAAAAEAAACkYXZjMQAAAAAAAAABAAAAAAAAAAAAAAAAAAAAAALQAtAASAAAAEgAAAAAAAAAAQAA\n",
              "AAAAAAAAAAAAAAAAAAAAAAAAAAAAAAAAAAAAAAAAABj//wAAADJhdmNDAWQAH//hABlnZAAfrNlA\n",
              "tBboQAAAAwBAAAADAIPGDGWAAQAGaOvjyyLAAAAAHHV1aWRraEDyXyRPxbo5pRvPAyPzAAAAAAAA\n",
              "ABhzdHRzAAAAAAAAAAEAAAAEAABAAAAAABRzdHNzAAAAAAAAAAEAAAABAAAAKGN0dHMAAAAAAAAA\n",
              "AwAAAAIAAIAAAAAAAQAAwAAAAAABAABAAAAAABxzdHNjAAAAAAAAAAEAAAABAAAABAAAAAEAAAAk\n",
              "c3RzegAAAAAAAAAAAAAABAAAKRQAAA2WAAANrwAAAN4AAAAUc3RjbwAAAAAAAAABAAAALAAAAGJ1\n",
              "ZHRhAAAAWm1ldGEAAAAAAAAAIWhkbHIAAAAAAAAAAG1kaXJhcHBsAAAAAAAAAAAAAAAALWlsc3QA\n",
              "AAAlqXRvbwAAAB1kYXRhAAAAAQAAAABMYXZmNTcuODMuMTAw\n",
              "\">\n",
              "  Your browser does not support the video tag.\n",
              "</video>"
            ]
          },
          "metadata": {},
          "execution_count": 206
        }
      ]
    },
    {
      "cell_type": "code",
      "source": [
        "from matplotlib import rc\n",
        "\n",
        "# equivalent to rcParams['animation.html'] = 'html5'\n",
        "rc('animation', html='html5')"
      ],
      "metadata": {
        "id": "vrzuoc050ePz"
      },
      "execution_count": 207,
      "outputs": []
    },
    {
      "cell_type": "code",
      "source": [
        "anim"
      ],
      "metadata": {
        "colab": {
          "base_uri": "https://localhost:8080/",
          "height": 742
        },
        "id": "rg59TTHp42n-",
        "outputId": "65e2b839-752c-4906-c867-ac91030f6ff6"
      },
      "execution_count": 208,
      "outputs": [
        {
          "output_type": "execute_result",
          "data": {
            "text/plain": [
              "<matplotlib.animation.FuncAnimation at 0x7f0a5775c290>"
            ],
            "text/html": [
              "<video width=\"720\" height=\"720\" controls autoplay loop>\n",
              "  <source type=\"video/mp4\" src=\"data:video/mp4;base64,AAAAHGZ0eXBNNFYgAAACAGlzb21pc28yYXZjMQAAAAhmcmVlAABFP21kYXQAAAKtBgX//6ncRem9\n",
              "5tlIt5Ys2CDZI+7veDI2NCAtIGNvcmUgMTUyIHIyODU0IGU5YTU5MDMgLSBILjI2NC9NUEVHLTQg\n",
              "QVZDIGNvZGVjIC0gQ29weWxlZnQgMjAwMy0yMDE3IC0gaHR0cDovL3d3dy52aWRlb2xhbi5vcmcv\n",
              "eDI2NC5odG1sIC0gb3B0aW9uczogY2FiYWM9MSByZWY9MyBkZWJsb2NrPTE6MDowIGFuYWx5c2U9\n",
              "MHgzOjB4MTEzIG1lPWhleCBzdWJtZT03IHBzeT0xIHBzeV9yZD0xLjAwOjAuMDAgbWl4ZWRfcmVm\n",
              "PTEgbWVfcmFuZ2U9MTYgY2hyb21hX21lPTEgdHJlbGxpcz0xIDh4OGRjdD0xIGNxbT0wIGRlYWR6\n",
              "b25lPTIxLDExIGZhc3RfcHNraXA9MSBjaHJvbWFfcXBfb2Zmc2V0PS0yIHRocmVhZHM9MyBsb29r\n",
              "YWhlYWRfdGhyZWFkcz0xIHNsaWNlZF90aHJlYWRzPTAgbnI9MCBkZWNpbWF0ZT0xIGludGVybGFj\n",
              "ZWQ9MCBibHVyYXlfY29tcGF0PTAgY29uc3RyYWluZWRfaW50cmE9MCBiZnJhbWVzPTMgYl9weXJh\n",
              "bWlkPTIgYl9hZGFwdD0xIGJfYmlhcz0wIGRpcmVjdD0xIHdlaWdodGI9MSBvcGVuX2dvcD0wIHdl\n",
              "aWdodHA9MiBrZXlpbnQ9MjUwIGtleWludF9taW49MSBzY2VuZWN1dD00MCBpbnRyYV9yZWZyZXNo\n",
              "PTAgcmNfbG9va2FoZWFkPTQwIHJjPWNyZiBtYnRyZWU9MSBjcmY9MjMuMCBxY29tcD0wLjYwIHFw\n",
              "bWluPTAgcXBtYXg9NjkgcXBzdGVwPTQgaXBfcmF0aW89MS40MCBhcT0xOjEuMDAAgAAAJl9liIQA\n",
              "F//+99S3zLLtU2+2C6j3op4mX0N1JQGblsTtOoAAAAMAAAMAAAMA6VSCY3zuANGMtAAAAwBTwAqY\n",
              "FzZ0fi398KuIAWuyFc5U9WMujjw2dzs8pXOCo4mmPcrYqyoi87FyL3TMewDlau8S7GUEHrbQ0zNv\n",
              "TNh4HGfM6+j1VrLDT7/Gw1mEPzyWzjXV82TqBEd3+6jK3JGQ1It/+EyGUzHzCAS6yvC5BNtK1Wmn\n",
              "nKYnIxRwrXb0n13npiaqZbvez6cWPY8DuHY99CqA2rK+wzQ7NxIwbvxJd9IB0RGAr5eLAtxDwvd/\n",
              "FI4+4bhUcZEe+/sb01iLmsaWr3Vu4InYLqQVfzpGN/FQO31acM8OvwZIs4eiZw/2Q7FIUVQPrMV4\n",
              "ROgsDIsn8+vZN791PVIlUs57fJPszfvqhDvRTQtGrDAdLe9wpusvvyiycgYqnBpk2QpfHh9JhMoX\n",
              "ELQ6i0/HKZgG//ke0hAveho34MCGT/ACuDCY0TtSQ4nsuJkM2r+qXXpZjuPXsflGjaca8HxzAgjD\n",
              "yHg/uBp18IBc/rzJPX2aeP9mdTC1Wfj+E3qfyUvYfT10fbjEXtc0cLmL0zr5P/qKfPcA0sr9ARoz\n",
              "H5UaI/yZjbuqK+w+aKWv4hgtMNCWYRHK+mSSrApizSAP8hP+WgeNHiEuh5i2J3yxhXJJLqy6g53X\n",
              "W/Tajk3y0fkxppXigzjrCpn/2yuEiZXoOZs4/++3Dp/qs0jlnOlXkOqToWBSPtcuBxE3WCjy74PB\n",
              "6THIWkuKxYg1+GN2ebQq91hP2dIZZ6PyowRIA+ZUbcIRNI+MopoX6a/KIH2iG1D46tUzmxj2uT7x\n",
              "1jyk5kV6Rt7g5oFfjxPpOlc1tdjWlIM1zKRJsnARGJ0+9ByTnLZgY4tESZANkmpxiYPXYuVjaZsw\n",
              "LIRM0S3vjZuW4gvna+1+YXxyJhNQOnTg3VPI8+MlUXcNAo8eN2CYk3QxeeXvg3YLgeQauWfSa5FM\n",
              "7HwIvkXDiiHr9C5+rjN3kbrbXU+dhICsU9vszjR4sU/i+TAAhn3xfDIyNilBKBqojPvzfg8/buLf\n",
              "wDd8UGFreh2XTBh2V5gy2wMJc6H+JITYT75ZcOadYb2hn5AV/3rNtSvqQHTcWxuQZSD2U4zzB51m\n",
              "2/cAQJYTnKVXpgPFZx+dqJihuv09iCw/Tb7A36jeYoJT+lsdmul22h9ihx7pb+BjZVp4wRShF6X7\n",
              "Y9pjDh78btl4b1Ntq0kz8qx4ocXUlDDbY6/B9tBk4IE2Gtwh9sb+yUXkiYQH//0sGbmAWY8JMciJ\n",
              "I1vZ0nfnd9XuTufPlxyNS0q4hkyci9A46BRri/8n/3QeBAnEziv9GIXpILx6w1KVCzuLBN4+29Ga\n",
              "PN9jnO+vp6B5IIg5D85SuHasbswGbbeOfDud24O31B7qAKXVvP2Ki1Tvz4pO4+asqQA92OwCVc8w\n",
              "Ve0tNk4n+nWE5R8uvZ6CYVL1QPgeV6zNATOHJw/8PN5ndZYyl0/1n9YN/PNO8VHMWpMHydE+Ml/k\n",
              "M5awqM8fuRuKYlw4qINex9terbIO66cQpu3Xe60UvXKdmULu07JHiOSN6Nvo+ur9JsDwKcuqL5Lz\n",
              "anccKUL0CijzTGM9NiAhWY5VSTidMWXCxhbDlumhjcC6hY49Unp2QKLp7MfktH/3OBbnAaPSS0tv\n",
              "Eqi5m7i0UXE8hEQfTmYi1brMt+P3VAj+8dmX2eA+OhGr4guSC2Bf5htbJ/rAxKa64oYB/cPnD94N\n",
              "GAh6QR3u2SPTfSp4aQ3cDMw+YjLnKAsj1XkXALc5c5B7QrtGNDK2MAt5eD0DhGxpKDhd1fPFwX+s\n",
              "p7xmL7M/UEgLnvshcqybbu5WMkH8IZV4OtS42b96UniAFJoXt3qjGlCUaLnnszVPG6PcnAMr+/wt\n",
              "vMaXTcm2ofA8KGW9Lbu4gJX6/dRC8y0OAmS3PaPwuP54PSHCXn47/CERem/VHddKMi4lyYoRMFri\n",
              "Iid0DyIVqrl5G2TMn2Pxarr8XQR+sCSPWABxa8ahErGXai5H0b7nmSlFSOvb5FxUMJplTA4jpEcl\n",
              "B3LiSNOktPCfCevrnUKURixq2zvAC5hzvGe0jU6WAuWMfj2sRXCUz17lqVUAIW+OkdTkojYkeA8B\n",
              "zEEJF+Z4EdGsg1mNfFQBDdgYSLoV6d9Ob7YQ+Idvq2yAvLTKbpAKLHainCszEbmCgUaod8W2zQZx\n",
              "SauuvKzTJGCxpU1XLqUTp/iLV5g1MrxYgO31ET3r6lnbmw8gQBuvXDbk4wBGd+xpSlsDY/+Sl/bp\n",
              "1OOd2V9HZmBtXH7jLfjflQsAzfe/eaX5aBWbGSBAmL7GhBZq8TFuKXAEgeIgEg/0WNW9FNaL8+nT\n",
              "iNq2W60FTcQL4UYUeS8jtADFcyJYSxWaYvuhiufRkZj/kkn7YE4gdj8SUFukxZO8GKeuAOyTBe6N\n",
              "ik0PG8bfe9Cp9vpsO6HyayCJ2sJVBa9W5f94i3TRF86nxd+zrCsHaEPQ0nK2ga41rt17zQPpuoln\n",
              "grlEInqfN0y4VV55izrxMgPkyXafY5uR8Iu7ONl+/un5jIydygKZqtG8LSdTetqfdupUUj8dQiEu\n",
              "dc2yCzR5rGH6/cKrdFRwr9Qz/fbJjjvOnW1P89FBTs2ymcgb8gcT2Jv+aqFmh7IgbQ37hxVK3MkU\n",
              "kq7lvNkLNNgW9v15nC6C2y2xJyMfnqoAqe9qmVB6PilDZTQU21X59HQMyXwuDgsC9yFtVxnpMAou\n",
              "qw3pIkUWVbu7mkPxvJlcRRRN8RgOyxiNhhesS3I3BAoW/J0GdHxMYOozZlwASNVjw/r5G2Vj7khy\n",
              "cyPzWyYaBVNRyoSjFrVXAQJWxIV/0C655W9f9lOZYNUTjwx6cIvA7p/Nd1VOx97Xh3DS6ZImXHv9\n",
              "x4K7FyptMvh4c3XU4UwFO9VSA9JS2yqfb+Q/B1tDK7lgrSer4XYn4ie8SSbLe2a+N4p2SzoSoZqD\n",
              "4kIK2DzZZy9Mc0xOQ9zOatLI4gCsLGaw+RG08LOAcMpPArVLH7Uul/iclh+TNCSAdMVpm+llPv1l\n",
              "/2g8gjsg5g3zwK/Ioqi+1hDY1Ek0nUPP5pSbW3bIluaWMrb8L/wZCG49aDYr+p3T0cHKR8C8sRqu\n",
              "Rpijix+Znqb+Sa+2lsR9Gk4WEKBwC4QQUefSSfNUyqrV9RqEvE7sWdO4NI/3WXyFwVQ2pDfmVDJ9\n",
              "uYbgjudNpy8bnMvwGvRc9hpyi2TX23s95U7kZZS+PdG3Iktm9Aj61B0joNNryZvDnlkSAzzMbQeu\n",
              "oW5r6H3rvGE2oX8NTUwiViAsudhIb2aNakHXjZiRUTWEQtK5sPN5G6jGefuVnIuoj2O4B25BNXMv\n",
              "MVpBwhI3cdrcEv4gATa86k2HVxUI+r5ihFdI6ca2NvQSLTcU0ybs9VCBbpXjbwWKkUBVfgfxHg/7\n",
              "xl3sLfSWVfJFpxA1p2xUXBRSG79uF288resQsQwBeog0/gm1rwLEfwaCIftfKiUQrEe7GHoyizSv\n",
              "rzPoGnBtAJhjwDQZIegxQdUp1k2/YvRbz66UTNbApPRKrYpNcmqZEVrfQsc0fVd9mTSXU1ta8mIG\n",
              "Vx5cb2Ij8j4wiIHEw810zm6wr7LXLBmCXFQLRfklFp7nz8irIT3OMuJ97EOM470QH9dO/bPfTw8Z\n",
              "vLD+aOpHyiEoy/jHNqEyGIZECWEte6llm8FlyTniFpuYkE5DmbBkdFdRaSNkPqusWCuIxDIvxjU4\n",
              "flDKYq8l/yN+6IiXjhHGuaVc+SGxS+K7MEpbHheI3zT4/XagLAoMzMncaqdKWwZSXOTJlc1QtRnp\n",
              "yC23PA3bxI1Yrx67mmolbxVC3K+zMTLd/6Tgq5GtRwWysZYCWjXJhuRj1CNcx1ib9qHpJaqik6Q8\n",
              "tIbAn1iagYCnOYPpveFcqooF+9/j+MLm1xG9SrEhJir2R9Ic020kj26ciSSSeBGCBskfBkkErCFZ\n",
              "mw7jREIfwwr/BI36b9IxTJumw21r3ggRxNZsY++uN/EDezGagGQenqT6V1jdhwUMhlPYJVHrum8n\n",
              "yv4G/GBtD1k7VOQpCYHFtRlAGJetBrHe5+BAaUQck5N2lMXFJrcgGCbFHSMvVrPJvLKQPnOMMRGe\n",
              "u+MnoRD9vrjTSeenJzY+kYX4PxhT2kzBnowM7KTrZObUrwjKAOx9ym9fqKN98cDMT0qyNhlqq09D\n",
              "hcaXSl0V7TayoqW7rPkcALs3+ffOCzaqgwr/tvmlIZjZPzE20W+Al9TbK0IlhLFlb4SNW6NVOPLE\n",
              "zj5G1FzT1x/VjDPlpQl8MOwpZM5n7dkI5gwy0yjGDcQ1d3GpmrnEs3mVKyhBWuPmjBMllKKs+Zv0\n",
              "0WBqttm4vtYA/NnfJsKAru68kSxnB7vAQ6VMZ950dY/K5JWQ+uapSTrxJVC3K2PPE67LjASqrOAg\n",
              "vCVWMdDZhdo2YMEYrjKmaGnYVZLjHnC4zztyenZqqx/vXCtDpEKmZoPOnDg2BckUcs3Q8xRRhjky\n",
              "LoDEPoqvGoT0Wbs9aP2y1l2oh1hawl6t4VGNZk7S9aWq4qINhBmOX/4fPNyHGANXgFadiNfqke5i\n",
              "y8o7r2bqHQMh0NGq0G1A72HRHMKDUpsLv2DD3RtzIWysFYBsb5nhkXtoB+L5aRdAAtuXJXKSE9Gc\n",
              "7slel/xdLyKcFhD/8KBiKBz6WUbAAAeBJf7qKLKb98wfTT7kID9qeYIhWmrwjfgtj7c0TaeB//Ar\n",
              "gC9Dp3i41BnSRRyJ+cV0qG03KORdMIfapOOuoSge5t1wLOYNwCZWPLJ2sW5g+WrUMgCIvErwhxXS\n",
              "vPMWx8gKUkdIQTsKCICVYPFlq3FUsEyPHZyj7n1Uaajp7gfXJc9YTKB/2tsf9GGxs5jJhT8UFFcC\n",
              "qfWEbR65admcrm2CTbGEaQhd6moDYIal+1OjCHz+CJi+ZquzO69abJfmV5tjInFuHMzsIBcu3wIe\n",
              "6HQ4ZtciPK5tcnSRSabvRGETf/z+9Ee/+FnAVCgaXG0HCfuMOOvsvXYkHrlHa3juN1tuDcFB5vd5\n",
              "/208iTj4W25iXGbLVdHq6v7iPkh6oPooA97MKCcs6w2bNv8qYKbrMYW/laVTzDf8WrkCK2Xx5WeD\n",
              "/10entA7R74zKepZloD+LThRajhXYKplc+IXhJ1ArcABf3pIiUnsby0vyM7uprynp3Ayt7Toc5At\n",
              "aeceBrU9wWj0lX6y12WR53Xgv0o5Q2aDorkls0v8U072qrh4oj3Q+zG0qGQsa62V2HHDOcaCwOIV\n",
              "CN9zAdMzW/xWNLbSVVhy03yFb4mw5dmLTr/y11FaH4mp/szblEG7KfRzN+jPWlpIXep3otvfaY3p\n",
              "K23fNlS6NfrIucAuNm/1mBcYC4tuTBCxfdJhXYUvHbmL/+8zeS1YKBneGs5lMdux24kZAlq9m3/J\n",
              "w9WLrGVtaDnXXjq3DqP0xq84unjtEHlxKG9D0hRQ8CKtGmUsra4osYAD+lP0zLiCEejpwR1HdsOh\n",
              "hBN9WQSxLOeHLveTvE8yiGjPe7Vh/TpRXauHc6lQdcMga9m/wkc/8phKZGrxrwiZtUb/BlxEbALW\n",
              "i+N8mwyfk8fcqnhps6EtHhJmu/mqzpG0u+WvTJMFx4pIQ6P/VBaC6VGp13rZxv5o0eLdBztf5VXz\n",
              "xzh7LoUUz85nUW6Ln1atuKaf0Xo4Tsbjj2X0qPwj/RDOyM2GEUpfBb3dgEu+avur2JiYdv8LR5d8\n",
              "TlVFt8+z+Fq0/ECS4KToXno+uWQbDzdAtA6WX/ymKUCqB5p29kczbsSW/Rf2J5JB+Cv6GsuWKp6u\n",
              "LJUcFqPZ+3pTHdJpfMaRjT623IpU5WgaID/pYKUGsG3wlPmcHGPoyuGbjlDqf1yyY2Y1lyn8Rprn\n",
              "4eCAfF5Kcxw5obaoy3VonkHcPe+qlAnhhbq/ccEv+1EQLQsJ1BLNxe43iHZVB3SADWZFl9SM/+a9\n",
              "Wm+S5Rn0aSeaUD6RcbTyWoEf6kfcNaJHHqL1sAm6mWBy8PmRdlm4nY/IztimX03TMMUzk5Gt/6by\n",
              "rM3B+Kz8VGItaF9GDqv6b2b16gO30E13DYqTnsGyCJ80fVbGjBDuH1mnAx12w/dpJtNlEHHXwEnR\n",
              "eiKAkw1NJiQ5Roy+KyEuATzz8vCBHusw+jkrDuawf2RbwhyONaiqkVP032qM5R+KG4xlqMTAY9er\n",
              "ntXXD02hGl82pa7P3OPsLQo5k981ZkoOTrGCCHq+QmztG9a4HHptSKRnWWRzd6Q5aCfsaOmq1Ku9\n",
              "laqUpvkY8Aa+8rlB4nAyHymAJuCIQU64Dohlt3ue31U8pILiqyOL/WhdSjCbB6QYd139l4NVmc59\n",
              "PGDwTn4/Mum5bkIru6xRlG4w7BgapMhuL8zlnnIUKe+nWtbnavLwGDiDu+/Vz0Xi0wFxYFAtoByU\n",
              "nxwpP5J6oESkqviVjnPe38xD+8ugnKcC3cYNhza0qcwPrNDyd+47CLsm6G/35H9GlQBB2xRDgc58\n",
              "QyLgU2Y4Fvrm/u5CD1ZILfbmmM3alkyGtDVetqB4DumxSImKCcss/u17PMI2MJOdLtP3KEBng0LZ\n",
              "eTzFasN8HGPFGB+aQzj4T6GkQtf+PpG9qr5x0Fw1mrA1EwH/0KEUZ/4qYbSM3rTgPYeR4S+Pd7ya\n",
              "Mn4qCg0hqlPdPEGaA9aLcmnHpMu4MWZRpTDS9Jwy/4Juuc6gVPw0kZAnqN8STdfJt4UkV0NDhwpQ\n",
              "nfIQf6QrneP1kripD28gU7FoFISVF5ZXAT0bxEWzw4flC7ih0V0Vm2oN7/8rJcnN7+kEjkk6Mx64\n",
              "lydu/LusjKIXxDmwXMd5Azc7YpLE5qjP+12JeWH9idaFBjdBxQfjHb3FXI5o5voKbpGqkJWCXAHJ\n",
              "jA3HxE8VyL/yEBvcqEBLuuKfxmZCF7IIt3Kun5wxFSsNXiTE/ZMIS+rFwKL1qU+D7aT4SpiEfyPh\n",
              "SzoWVPeeYD+KgaY2HiBgGE8fJpZGMrOv79Kv8jmNmGaza7LT6WYOJIx5sbXHLTR+gPaDJDyiF+Dq\n",
              "bTEU82o5+D5yBUq7aP6pCh1DU5sWxy4vJGCwfdoi5WXjmvAPNILYwUO1VYihJFoz8apcEZbtmxKO\n",
              "FHfdbO/jnSqtv3Lje4nFlovdIp/7QS40+NkIQcS82kTG4OrvxZfHKtcuz/gd5GGaAfCy91/yi9jQ\n",
              "4YiBdk9mhJhTbgW7q4KQEMu3v1bywoX678D9rIHnycGeMvo1rYAfV3k5ENd5qTJCQOlzDNOzXhQE\n",
              "MQ/cZc4i6Aymah+LD32jWRVQ5TbucUdl2nghchY+bUXOxKwJaoVdLeAKn9CtDEI0as3yriW8xt6w\n",
              "jgau6bXA2rsECyzNSTnHs/SYKK3TWyGizcELms46vSyUSuMa6Pgkd/byaZ4AW10yrlG/pCFaczoS\n",
              "eDd8Dd2KL2UoLznLwVU/Vlt+mu6KaRkDnhWwK1bPNaOkZYnzAePg7ZvssnY1DFsUd8B91OAh8v3I\n",
              "dHTY8Bd5eCZyJn3xyVxLRemCdQYjVvZ8UtQsT2k7yh9xQG+GCWK1zsRBGA03q2zSmv3LgwAJN/er\n",
              "My9GnwowUfpKkM/ybIaJwwAbRxAHOmUuyR2CtFyiR87Xa27JCWEsyeQ1YLxPrUhl+Wy2daAdt8hT\n",
              "RwXO685PbEVHgG2WAdbCqjZKyJWpkk16AFo3KepzQLz2uyM7PnGWk90nu+5DCVOw04deXyNhrGk1\n",
              "qkJetUPoUUWe/WZTGMwGOC3lcC57NU2mjAwa2tUFHxO80jafV3GXA0wYgDzAvKBV0bWLNmstLmh/\n",
              "1iPr8y5bB3zhcILC9eeYGl0YYvVQPNvYFqaxMm/tWzBCVbp7WYCSVv21jM8Bk/1NIUySznKm2Wmo\n",
              "IiaeFVvL237xz9qxB7MuikNb3QqbVvwBM3E9/yehvw8WeBx+HVrfvu+QJGmViOxl+8mcqSR6FEpk\n",
              "/JTZP+t675NqOIcTyl6mWaIF2cfhKG28BpEIWpEDJNzqiMo+cUC/L6tH1qaUY1AozZ44Zhqb9IV+\n",
              "ATfWY/XH387O364VwwY4pKjNcodlrPbjJxFJrEAsaIkSSjdcbjUj/CWYL+rR+917Uk5Wn0ubZRZG\n",
              "jeZimTjYDFqgF3au8IRy6/j9hOBnSHcQYUp5HgZZt9EOhR8lvcvwaH1+Su+/bVC4xBdjrjG5kl8I\n",
              "PBoQDdd2mGAwdaVNqxgC+cFSCyjf6FVNfmtnDCDI2KaPbwOloR+ERXvYfpq5kp4T2Z/XnJwnaRAy\n",
              "De5Mgq4r9DkruUk2ZHukUOb00U0A73jvpjgUeVUAifftyHw2Dcxd1RLTBqHMh2T6s3kA3s9YOyH6\n",
              "f2svUSSNWZWYMMbwHRjqCJkBOm/17u6jpfyRT2vOuIm06GjvnjUqEDErLb6QHlia4byCxPP5rmrr\n",
              "lGxxMsxmhmWBq3bcka0qIUh2TcG+CO4t0PjtphbP4Ycr37drOqPbf35/UY/7dc/A1wa30/6RjTS4\n",
              "qPMrn2zmDDG8B0YJ8+fXUbtRhCJvF8XlCp5uICOdITgK63exBj1LWEPlv6mKY1J+Hd96GIWwnces\n",
              "3zwTtkZxke7MiaO6jskFo9TyPqUZE6PfV9HeUpGoBX1+HZUU0NL6qyE2F2RCrUV6FQezN9ksMWtb\n",
              "9BXYNtqmx+jGED+5PCXYwH4/neIZw7nYq2FO72iZngrVgLSKDNfwz0NXsOwjaAVedXZNBOfPiEb0\n",
              "++YE5QVBoMKwAAADAaUqlJ8CUzHD3+GYJXhzw4BRuhGFaTMUf+qKktQ2e+wdJkDyJdDQfPJrxOkW\n",
              "5EPaKoI8h1afmvpr3/ve0XMHQ0aSjzRcqDlb0uxdwSSI4YebcEzPq9yebhOBGcjnP49VwAyyWzap\n",
              "Q/kiFNfj/N/H+6TAK9K1fC2+toTTA93Kbb39VDRlaGkYVyDB/mp1Zg7abdtoQmrJ44lQl3/gz9jr\n",
              "/rnq4vK+RPZrKXBG57H/CchpRQyg9EQzfKRLzb4MxOenk5k3Stblghlg+O4T+T8u1gqH8nwYbVH3\n",
              "wGlvELEXBZR3BfWxI+Ua8YvL/hWNfXxgZSJ5ZxW6GeXLlleyc49ZT2bKtrcKb9w/JpF/CMrE0sbv\n",
              "rJki7+VHbzbjjHbzKzA3P4nUwZ17AtRBSrAqAhA54mBFCNRc4yK64pmZNEFrn6GqycQVitjGjAs3\n",
              "8AAIole58/nAVd15dNQ0O6+EMj7200UYJMAFRJ3V629h1dDB6OCnSH0neeC5a1vtzglDxGaxupoI\n",
              "7FmvoFkc4zeimzeb7MJHjBwY153YuAyVG3iZKm9TNNV3cUoT9kF7DtRyvapf2TJ/bzdtuxoGEzyI\n",
              "IcjgINdqGfOxpDcr1V7lVV4uiq0HyzoEWrzGykJ5TFPjHkLu6SumbXqiw87ZeigxQWA0j2U7G2Qo\n",
              "Q16854PmXIy7nXQZZrA2u3KV6P+zD7OtW5Idb48E6L+BUeYWDIcqrWILFCvfC4r1bff/wxaJ/zsM\n",
              "MADlcxBkskEs6Gr1FcL+dnstAxf+OF+7lrZRZoDTEeKbgl5gunsodPt1N/o+duSCkON/pygvYGTA\n",
              "oww+2vy8kfnrxd+cvNiafoaEDZgnWGopR2oj4EpKayJ1mYt8Z76H7jwpTlHbV9MknyJ4HnBNS63X\n",
              "xvnE0AAlDxpugRX7KX8xtpIVj/C6umz2b5NDBnIufdtfiwqWbnDbi2aIYdXmeXwc1DPXyp2/DaXm\n",
              "WXd97W+bqbptTl815w4ONG8PsjFx/A4H3R8yY0tHX/7JYTPbkq15y25gApJEsZtyhHFA4OZOYp/6\n",
              "eShPX6+GmMZ5A//V0jXnsezpQ/u7kwm7bii+qT7unQ7IjyJo31Wiv9xKCr00ZK2pClPpuQ4hJYWD\n",
              "BtdPDaCHPRMIcffgWz1J0YC1WMMJAE7C7diQyThM3egE/TN8olJNppC22G2DNmD2kPmXbpPBTXqT\n",
              "TOr0Bqs0344jbplNm4EfKYXGTb6DpPbE6pG8rZI9m8Ehq69t8T74hiXGjfsMfOBppuAYvVLsbq4u\n",
              "n2lOws/jqYYG8UugqIVGWmj/sO5g7JssvAYFAIHAbE0HRr8J6jEpa6D18GORsNzkaN1KWoAW+8LB\n",
              "hU/I4Jxt6ivE/2C8+L56d2YQP3wWT9bCyO3E6mQHsm6Qzmw5uem4f8IJ8GkRtAjLsBb4AQwQcrsq\n",
              "W+hE5zIzeLcoqx3t7LG4BJFnUBUNGMbMEOKLQZWKnSYKdClF1A8bXVOD1hHp2O3Mf57Nz4GIstLB\n",
              "/eNjqaGlsCcx7BAAgWy3NYJdj9G8moQ7SqCQLaxHBsdqujmR4dMIISVUoisXScLS9CQW78oopb4U\n",
              "o4hO9eMxFN+4E3mD+cRvxVZ4WbTD1MF37M7ya8sqtOosDRH76Twzyqp8e4qwAWwJI4MlXcTWeKfS\n",
              "0z3zByGnk2jMVaY1+z5nO+Aatfh9K8/kvXzE7G7H3lihuPo9uJgeHeiA02i6kBVTgkhmAMDTdpBI\n",
              "x57qTdRvmo6lP+UU5zRKNfIz58WDWNM5jtQ37tGlQPH3V64oubH8qCfTTjtysuLzDWHEf3qruhpR\n",
              "MRP28PosyxVdhhsLmLMkiADTMvQM6EHNJr9S53w6x9g7NodFurrWOQVtDJO2NAgpEB9H0h5tV73c\n",
              "xCpyILPk8dcwv6IdljCpcNVfnRX+Csf6RPUulU8MLGunEkfINTh9004C+dTvj+zpW263AXhhSsAP\n",
              "mMM+btfh2XmO7s43n+9zZ4woKwfiggW66uCdJRFFLrFZcTGjQcb5M9803B9n/vxTxGJZFFSBNzY3\n",
              "Mdzq1WlFaQxZ9UaTOOxKAYiBkfLP1TIeNbVh3ldfwQCNp9JKedpvvMcHotgbIhp2N7d9fx4sH73n\n",
              "dhkTfPu4Ao6VoEP/lTYBpVSrlJZJg0pgO4MN70x54KnML7vvN9nWL909xLtUjoD3TY8PlStUwN1/\n",
              "0+qeIJzIF/Kpn0/CdyfI0z/rq9T8fAhIp87glcy4OkqJJaXNDTTbgSkwhL4t4muA7hUKJIp0qwcC\n",
              "hpkBgyAnlB7H8eXLiOshU6zIl3015jRko2eBqXECSKAsPMAchYItg9BlonfX+rduOdOycyluXaSi\n",
              "6nYzCTjWTuDwSxpKYUbpZcCbDFn4GCdfwovtjKCTdldf8SdD9g5NgeLy/KpLN7yAuMTPH3TiNYZC\n",
              "ac/24skGkvuSui8pFb02FP+9BLG9Ys80GLbFXSVEFJNhP9ivDUrXXgVY1yaXDsVK8fDkYLOjMgsG\n",
              "zmHYeml+L5lpeu/xN6acVBA4IZb0p8Ea6YqWaxX6rYpVS1Pvvo7Fo1Aj1f2TId8cgYE5d2oAyUfY\n",
              "xUa57CLQNSmCfKhMV2S9PpjswseUHSdUkdGCfRrce5/1rP0X5RlgcrbZa3UjUNQq0AxlcOn+i2hA\n",
              "EiGLPTXoax8WHgHMHNGVCRRbeHy4O224Uztyw/M6Vxvhhula6WB1q+xer5AxlkisHuPLEa7QCCcO\n",
              "wNF8nLlVIf5Ux0lqzQz0JIynqXLjXQ978X2XcxXzfnHuh9+RwzXmtwvGvP711duqTAAGX1eRh9/9\n",
              "tPHa5pPUYvLbKG8L93ImhXeCDPa3v2B7d5z22pWgwtlXlSrf7VTpDHQM1TEVk40huKSnxY0u2KVh\n",
              "f2W6UnFCeKcN7KXk8o5W3tFfG4JVTM9XtOGtTh5zCRMBhFeiqAGX6dfppuyodq/EhOvIkqSlfaLS\n",
              "bqVGJUzNDRTph+aan++KqrsUYZJhaU9cRjklVW/IfcD/vl0LUa3McgVmmVJ9aC3xja/7U3/j1grB\n",
              "dV0tIvxEhq+W9Vqpo8zKnS02EMosE63C1MHSxNajq7HdV4Xbhs/5o69sAL40ANTuj4z4SBN6q+UK\n",
              "skTMUcHJBIECvED5hhubwGe8aoyjT+oMuvp53IfNdRGNWkOSUkRFzXTFVw3uuyfv4iI3O48C3ROD\n",
              "IqN+mANetxwMoB4OKmXNgS4obN718qlUT/f23Ya3tFmyHzqNR7Q/AZ0XP2H9Retu6WZpXaL2xFTr\n",
              "36C687TEgrgL+c6JsGWEu6ufrm5b711ZG+vF5VTJzEuIodu1aq8X7M9QIqPgv9Jys+/saT3/ysYm\n",
              "VcLBuRP+Bh1bY+F21TrGkRPkrlzHTVTn81oUFxBZhCn9DmGxGjWFoBR8yGtNPjt9UlGNdiFWeLuE\n",
              "4n1sySoFZBn+D56yIjMbkCUGHCA9I6VsWqD4uIIkqD+MXKixE01Hbv7vLpbNxCL+MLvnZkPJKLpe\n",
              "VBZcn/nst+/YoJxJ6oXpl4nkB2OVL1ekypckw3lBHiorxR0P28+uxIUUVNTt3/vSkspZYdzUgvcS\n",
              "sIi3+yFQUaba+6KyQOFSBALtDUIQXtzNuRlfgU2HbqPx2phorPg8/2GJtBKEfropV7gvyubPf5fl\n",
              "QZNIAojnfnQVVT2ZR2PdlJQ3fSP96N4l8Z7QpnXplnZh7CQpaF9l8aEl982l/YLFdUWGKNRBAYmf\n",
              "BLWkjGJZXuV36CYD4xaWtBc6C1jlVe6F8qFirzcVmUgXjau0iJpGu5gw+b3H6bVXtZtpx4yImvdr\n",
              "+gS6IDVWhSFYfT74dE44pfjBAarE4M3A1aqkC9NcwnP/16lF2+Vs7ZS1Kq46BH8YgH4sY0TcIo25\n",
              "azR7toAR1HT171rhNs8Pg+QbO9L/2Z/Rs8Iganq0xzNQWM8IDqQIVJD+kFalwKrNv3jifqWdrNG+\n",
              "UiCQ5gAnpdwson+ArxEU7l5gr1ldYWW2MSzHrABJR5C0B0nSs0sFB4xmFrywN7NRyL2NMZfIaQko\n",
              "Q9urRbpMXZDmB5Q2iDktXJtvkTkJTjzMfTWT4ASKoHlVsJFJLdeJe9l/Cx0fsdqaCqIPrPLOdTXd\n",
              "PZBEpnZF67yEp2ryncQFcDN6rs8yexJ4fRfVO4lYpWucLIiUrDpc3wVOYV4RRxGTniQAc4Eidni0\n",
              "/odE0/+ymJ5yT/uT+tPouJU4BIHxk4LJAsMuOGVOnC1WxQzUkUo4Brx9MZLqUABft46dtF1tLmC1\n",
              "mqT+M8DAP951kGGbLWcZEo7tvXBQ0XGmyM7DqPqrn4B/4DvWUNZslMBYJSNyRG5xHEjc52DrVPz/\n",
              "W6JgAAA2ucwCVB+WWMf09c0l/j5qiMPkFskW6to3MXxqZIasUVXJIg86L2Ceto4NpAIfWekY2hnG\n",
              "DNdhuUfqwAAAAwAAAwJnAAANkkGaIWxBf/7aplgAFKBjVzRmmAAE1fgsGHN5zeO1WQbybvYywv6J\n",
              "le2k4RQyWkDXqZXvLH9Wn1IkeYASQx7ctifQUTNBgyOcV8AcsfbAW5NwEbMt1y5b/Dveo/zoR8ZR\n",
              "u0vQrbbl3Yws7VDjJ/p+v5y1otNcAC0qc1GVID6OsaltK1V56kRgkZ1HhlmZsz9dFn9WumBVy9b8\n",
              "jCV9dawtKBtHHLE9wczDKIDhGghWE1ToVMWMhvONYUj7ItlUVCbrWvxXmfODXpd57Lh/ukfUW2b0\n",
              "FcwDbI0IaXzPV6VjYlS12b7rVllLJIlUIk8LBUD6k5L+/y+mrf1TqFLy6dsrpMvRNwCX8kRNpIKU\n",
              "8RWwrBDmZ2vU9/wXgzdWpD0qdDWPzu5gKe6jQ1b5q748aFjjJRWFKD25sacOlR/w9KkCeq4ojgx7\n",
              "8zxnghVTYIDhfJUrMkXW4eKBUmM822P4Bgz99ODjNFPoUChCqylUUlvUCC4EFsZyUGkSIuJB7n8a\n",
              "vj/3z5TzS7M3OFcZQ18iCQNJePW30sVsiJOGi6anq1vvHeBQzYErbh2JoQfZ+a5LXgyW2QeYttIF\n",
              "YjjrABxDmkXh7NSOgZrdG/hTWkJ+cY4xTSh3uP5jXs3hhEOy4VGJMJpfj9Zi6df+XM97dwRAvjnD\n",
              "KAYkHXc2tCjVaN3zYzj1WIDUqrdX+swusQWciZ59YeoF0z104GaU1ihZO1i5BEv1IzXFhWwa5FQ2\n",
              "2e4wmZbUYeHTkquWxzJXNpcgqo2u7eLxML0XOpOVT7LyMI77ScI5ZjPMuuCI2dH9Cw+fpfrkNOq1\n",
              "NnHjfBBnRWzlYcK00a7Mew5sZ+DVUfyHogtslfjA+5xq75GShCOG7KPDrhQEbxRCJQ0GugOOVUUG\n",
              "1MFyTTq8QFB4lBc8EkSnCGS+IEXaoVCwwIMkbtM2vBJue1bbyOWvQks1KnsmV1qCFWzP3GktJsSo\n",
              "5b2BVolN3wvfNY21krROoQwnZBzJ0HE/XHnnX4stBfxpklwHL7Ko9pQjkwlP9u0xdUFg1sfwzDXQ\n",
              "ob57uPPPp55mT2CEsbAZOO1HXMu+v238wZwxZIh0/5gBhBryOMouIVk1n6aPocf0SkuWbXiOCnro\n",
              "ZVmitzg4+MlmCCNHHqV9VQP6fIFQBaBTvvnDwRZqOy1EFSY5fhv5PKEAeLfKYBFqDQ4vT0jge3OP\n",
              "YXHG7SvgEoLX0HWpySJCPYklWcHemzMIiHNl4RaNxrVKMf+jGb9hBtmDYz68OEAh4ZBpYjxaow2X\n",
              "i7MxrWT6bo3ZEHiNq6AmZJD6vYJ1MIcz3Kf8Eu04eRl1dyRZEEQLLIIh93zBzFAmm0veQROdJPo4\n",
              "bTAa9aEF7GJmCRNQATFlm9LlsCIO+NDXrXhvakzjVgQOgS8EymVxlR9BEY+MHz907pZN7V2E+jVM\n",
              "jqNDLZnvS6O6/ccXG8/TiCAhU6zGuH57oYHndq0GDeIK+o6ztz/5T+x8vJKKF4PWMoxpr3cJJk+e\n",
              "xpZzaw8mZ4s/2hKbIjpEfvVZsi+1ygCFneXE3J6Ou0mZqV7Ot1cD0BFK1B1vCHT1DxKEHnNhlk7i\n",
              "96yUq+OferHzfOBisknBxf8SyCGZy4x5vlz0Ig7iCXcnaX5KJnZBmcPwBmhIdEiCX1psBjSrElKZ\n",
              "QiotxYMEX4+TFPlPB9lhpDz2HiBjwW6kZi/eG6uJqv+Pxgq8KOeQV0NzGvh9XUPlPgVMBrsJ+mpc\n",
              "L83q4JaOM/sfOxNk8wGt7PtNOq1ar2+dc2DnMo/TV4VlNmYV+2lQRfP/keR4yZ5GM1vfpMDnRTGW\n",
              "Ru7eT0aAr2Vl5j7NqNcDNKEnDa7r2fYNcxw9+MJdyikBB/1TjW4KVcuOYJRXcJK7Ab0WGSO6mDEC\n",
              "hNtutTgmBbycInmvfJ7bMI4ZVgpMn9KLV9cV3oxB+V7yEvpHOEeYf4pVeDgeTbIeBhNxyN7Y5r7T\n",
              "Pgg6UhbBzUtmaQWy3VVYJKGA6kRAToewFLdsmJ5fVShmk7smpis0uC6sx7KiPyQ9I3HTUxIAUMHq\n",
              "hw+ULdafdxnZuO+tt4CjUk7SKHw/lIOdUTXbWleVv39lmrvFjZK7LMA4s3EuOwK9xhhMbIrydhi2\n",
              "hWVtBdcxVfD7AwAguhHZefRTRQP6KxrKopnD5LH4Hp6VPJ6bpsHEck63BzM9pQp8cXMdmAj/bt6x\n",
              "FzRzdwdgRs20cLHDCSfMDDQg7SLsmmczvBQvqbGezanoN3a+7jX4GpEMYfoFkvkVTVRPiy35pGfv\n",
              "r6zV3MWBmSSp1jBGRUu6aH/eCjST24ypC77xPq6/reUAyWEy+ccIJjoab9pVBbaH21O9VM5ofLI2\n",
              "rAeIH4LfK9bG2H1MRiRdEHWhduMVFfASoAIyMlSPbegaVn6+SkFKENxHu5wKTz1S5wQTACEwi85M\n",
              "H3j3z+FdifMoSq6kItC2uNVan0yg9cqzAU5V1QOZkTzzayDHkEqyTf44kR27QusBM+4780pckRMQ\n",
              "rgZ5QJMXuEDNv3JY6pVCQb4IFHrqky7Ai+tQPaDfuAeAY4vTj4e8B5R+4wGXA+jaS6NzM1N5ysnU\n",
              "t+AGA1Qxf3hXjzEfhCy+C46iYvzRLCEDaw2m5iqZeKM7XLOHceqDWwGr+nM2BymRP1AkD9eSmSoG\n",
              "c5tjfVDJxqeIVbYEC7kr03hxa9B0hIzMox7Irra7F2vlHyflPeCEO+GJH9qItkgZdUovl1Xyzlbh\n",
              "YIWiS4EiKj9fCoVi+FfoxdKU17FL4M72+GXKIgl9FUPir5qaTftfdHgOiBCPoEC6RSJYiTqS7pDf\n",
              "PntW9UK2q6Q6TdzSrJaMzrJkbsbe9I7vxaTDCn6jIqqOfyeQ5F+Nr0nqAsQINTrpynuYxRqKytlC\n",
              "dUKWYv/m67EZE++CmLnZ4KjZGpF8RFMPdlB48kIY2xib0h4vngWJipteOHVn7nT0+8Wdhkl400K3\n",
              "PE0BoSjLA9H/DJ95GZ7tJ1UrToeZIm4dVFmgw6FCmjGXSH2Neg+8uPhices3ud+GkzApsGSobm4H\n",
              "ocIUnf8oJqXUKkVSqDlTeqgZTCl3HrmLlcXuqzsAlrQmcyP7CtnOQRO7CrUdUNDEILscmeFSeX7O\n",
              "ffXuYIS720ZF2ovcrjk97M/RHcjHDMT8onikWjcOvW3L3n6DMZw1CAvQyeZWlVq74R/C7dNhod7f\n",
              "KohaKM2knbTRrNPJ8pJPFh4jx3cy5F15b68JCyoa0fFE9NS4ptboiScLlJBCjE1a9IzxOxLqLmvJ\n",
              "7tPDny5+dXzxJkDe/OB6TPU7mcHc1sHRTLWPZDqQHU4DSc646/Nm9vqEbDzCtBZDdJSZJN2Zo98Q\n",
              "vZrczk2XubKAOHQlyvqHxnV3g2Ff4+f6dHp90E9nlL3YnFsQrfm7bZfiEKK5G6o1tV2O+HV8aKj7\n",
              "kCrphLJgFaMAWlIV66/WXx1e1qBUPf2l+DlH9vZmwyLb1OWUu6eBb+90d0THjX/UXO+jE1alc3Ci\n",
              "Gk5WMh1B5xwYZRiC1/Q+tlXh0OWczXhusWOToX8nUMQ6Kv/0+RxtqPCV1gYXFeJ2KObcfBbHZiny\n",
              "OTuPTjDGEsna9sfLDwGkRk9GJVgIuG5RxSMsTk7TZH2rGH939ChFHSP7uoYyAiHDTMUIHZnVGOtl\n",
              "V2Rtt6B9jowwhcmdNIIPkOXv7f3KNdAAjRdD47XnQORm4Al588SWtNAJ8gjTYtLr3dB76zU934o7\n",
              "5bVmFnNNCjavMWpMclbGH2WmSwK0hA2JGSnYll84tNNtZzsRpiih7Cxax5xgM421YoQQ/lbqoorn\n",
              "GcI9Q9YdO14w0VJ1hIu2vpllCv8CEK3hbPUCyDqXWdSYx+uJlSVVdCCzdIkqMipWi9PHB8BfSmNL\n",
              "4FNOYiYRx7XCSHndzvVV68WETAhr6q1EWNuzzkJcL9cVRufLvb1tTUTp1dAlqAwWSZWAUCHtSV+t\n",
              "BcQUKS2BkIQYqA6Ro3LAlZDauNiP32qcV0mkeP90c8TOTfSjpJpEtTqqZ8DA6mOmQeJcXf6+IFFQ\n",
              "rwUedPryZgk0zSkzzdoVHyvL7q2XsCuK0R4Tu/e6sNOdTpRoEQe9hqvJC45wN0Q4jv9mg0wrqyQE\n",
              "7PookW7CrFRGuCmYsQNOmr5mxEK0zjxolYCStKV+5IafZaZPt0qnxAOoz5W5CcFXlCG5ERCWqg5D\n",
              "+5hAufQrZZ4l9kDrbmwYNlrRxvEA9PoIBZmdvllLtqDqSmw9lSSvOO+zVRpbSYHtyPswbUUvYZ8y\n",
              "6da6oAjPXOv5mm6gv63KTz4LFR0dmvu/W07HksXNCQNsST0l4AQc5I0fx/GiawoEWCpz56C9gPj3\n",
              "LLjisJisu1KN/i2xdxnv0LOExwxFmxSpNUL2OtlCUHjqEADkmAbleVg15GYu5viWhKeSdojI2AFT\n",
              "oi2KQO5g5EtX6lxLkejwa0p/DwCAEcP6KPJhnj8G190tFmvLXVtog9pEks+druXefY2SuCnTcF71\n",
              "29qJYWQ9CLB2Cv6isMUmjDWwuc/9I/RIRscX6S+nZ2a15/pPrQ4rzT0cekuzDSB74Wn89nDRaglC\n",
              "kpuOfFSx3tKsxLOk/8ccV3KwTVoeD1P2hdp1hBrTdEV97juGsUhgAOhJ2YgI6qZ3GXZ7ROjHbone\n",
              "ODAcNTaobkc6tnRYWPCLgAAADatBmkM8IZMphBX//talUAAUnzinv7cqgSyiAD+j44x8ABcg7gut\n",
              "K/J7ftWbUwq8/lCr74BpmnNPz2dqQUjAIAOLV4u9gMqnlS/+oHZY60COdbYm9GLT2eG+9TeqKGKE\n",
              "npddZr0geTIukrdXPl2lC1tNLg7MF8JL8f2cfTX1O4lgb+TI8qcgNJ+uHIfQ3MyTX07mNO+DXsVB\n",
              "R/+LillvLQ2mIuFKWSdWmNhLgBzImlqpUGVa7Kj6wI6PWfH/kYMtb4rb8T4rlW6YXgRuLytlB1Fk\n",
              "SsQlrOMbo5t1guV9H11U6WoNdQjypmDEDKav4/67f9QaF0hITm8KPNkV1lPTzKf8ES8ylvVt6vjL\n",
              "8L6r6y/ap3thEYZT8QvQoPcp4PXrcF3Ytn8sQjtWOQ5H8lyfhoeZ70gew13HOYa38kIHd0Xt+8Vb\n",
              "RSn05yHiUQXN3d/XtlyCaX36zC9R4u+AnR+BdzqpF6NjFPm9u9mwTWF4EAi14Ca6N/pHE2w4gxab\n",
              "NliD2kzRNt26AsCueEHB0brUyOD8MMlYBMi00Xro++8oSCCO9W1iCxClZAttolFUeq9biH5J47Al\n",
              "mTGOA2I+aF77dal0qF7uev9Bb8S6mnQqLoUazavrHQG+hlNhiVSK2xAJep/IewZ6Oa6x5DfdlmRq\n",
              "7F9z0cKrZ/8HDGNLGqSbTZtQkWkNzXbW0/4FJhAOqGxE2JeRdWYolOo2Y0WRey+lVgcA7jGZfRhM\n",
              "pj1ML75kXmXvm2gX8Jr/EegC6F+2nDgzUIXQVM6ZLnlVY6Dx4MH4VGHYTiJA1p1m+PeLow5KnOY9\n",
              "dxjwzuiOvo5jMffwts4MZz/iGFXluLdXMREulQ5yxufY9EJ4Sc+wOadIECSfZmWhsTsjBHKSHwUL\n",
              "XHbNI0htengLTlk4w5nItM4YwJtle3bSospkECeAXFewNJwpaO6AmdSzKvTna7jWo+jcQBSDbv/a\n",
              "TPax86Ffabm1QIUi8qT+FbsoGnpE5xzidoPOPsFuTd5g/+53GxH/3hDbjc7uoZQkyT/rhO2Z2KF3\n",
              "MhXlo0iHrcLyDlHcYHY8WpjsApTrt3ue0duT5neIk4vTOoB3zZKwgJnfNLU0/RvlvalLM43h4uOQ\n",
              "adPMwo4Z8AExJSQE35bCWRo6DHgG9lYFCI7dCuUbBTAyva5C0ggoOnDUMqjXYvJBkM/EKaFHGF9X\n",
              "JAEywPJ4KXiTfcYbFlSmdy/Ow99X00M4mQnRuBAoWJdnlrAJxUZK34hif1KQ24hxgUI3hgAg/AJZ\n",
              "trxyprQTBixTsR3ew8UwcvRioXrYnlom3J7L6wdkxwyXkIDvh+eElnu3wzQUgfzKT8IkTQdL9bNE\n",
              "jZAwV2nD0hXhy9SfG3sKsNDY4vAmFILPQrboMDTf5nz1fMlOjtDIzK5ME0uHdglQSiLq89ezUdPi\n",
              "gRWUzNGSwTA0+9lHC/b9cSX9fiSxaDoW0QDVw1SuH68Ulzn5v/JYY/FnUM7mK1V0r12fO/KVNqxn\n",
              "N3jS+qvA6N+aqbrvM46n0PLe3ueflSqZ2OLnn/uKWnN/54M8dTiCWaDlrw4NzVJxwhUFUuPJpiWe\n",
              "A+Gck+irbMKoC03pI+76LHxjEHF8dQT14kq9hmcNjrUo8BajWa7OlWAVV12S4zvmKL9WxsylbEF4\n",
              "28ffyEWuc1sgePo+9+VLGhG76/KVyXRPUuTJ4Uzu3fGgpx2MZFNIxdTOaZB35kvBycYBNzSoaS+m\n",
              "wJRVBjFNcrP9T5Kr1Yc+4BSmzsJUBmlVN/GVjoDkWih+acyRkvZXywkrXXg4jJYvR79KWobJ23Wv\n",
              "wZfWYHQZCW9isjuGxk/jcXuBu40MsVpQc2tQkP+ftKMZhTQZvUDvYy3ZSdWeGCzF9ShNAgSFwCi6\n",
              "/QV6gwqFGO2WKzeie/Ar5nPf1mC3+gLR3MJgmjRACNqIOiGhQVhdgNu7rjFS/zGj+/o1Wj3PPq5J\n",
              "1rYF/4fp8UtuzfjJIaX+DbtFRU7NUJmBynipt1owiBKptC4+W+XQhUBH07mkUwZJuh0IOPI++s6S\n",
              "zZtBXAr4oeAMCb44rzSobpDcesHU9MRYsDKpUSE3naUaAY8c5rY7LmVrc+XNGVU0vM12dpGFl+cV\n",
              "Qujq4mXAW3O9uJFQK30ZXFChJnbcWHThl2DDur6RE9IOn3SzAMfadzvADf+jy00TcxGXNHHuZAyd\n",
              "eCBo70K2cOfRg6TlfPJfClk6KQOHxohYUv8fdbgFsZ6Ania6b5uoOEzZt6k9H1STe0axOElKFUGf\n",
              "1xnD8KBZodiuvLS1G+IF3sZT1gyBd/w8x9BtvCi63tQRkUpRtoIyztkXR/J1a1jFh8SkqDxSP7B9\n",
              "dhb/QHk7mEwTRyt2mQAz1c01AKPDqLmtnMlwQuUJB6VfsLKkqsxc+vOPAqDyouQ5X1n5GQXVVxng\n",
              "sEZM/APDg0ciuZu/vpVVN3YHrQriW6gJVPiV18PqihsFMIkrd1BP2bL0AmiXmql6bAUWs3D8xMsh\n",
              "/0nCCGpnoGfhtho0xdYcBOI8TWzhHr8qppeZrRmOowg0AipkwyIxiDEKri3S1BLNa2rNO7V4YFQe\n",
              "SZeow718RxvlpFWvRoLKlKy+ft+82ogsJqu+Km0r0Gbmm55OWONqgo0m+NaHDQP46w4YzzAZZvGj\n",
              "aUOTy4ej3AjBi68QrEnoTxX8XNt00MLywUx2iz1IkUP7JXjd0BvlvST0Oji6bmpF4Wgoh4zksq4f\n",
              "p6mgSDl1Qc9PAQfzalT2LExE26/siAWGWEcZf1ZqnwJcCQwimLmn9hlwdWRglODO3RiW9LM0hIYw\n",
              "wXLlbJ4mYK06BWT0fXlfRGo47/JbZvLJvEQvnOLiPxxTNu6ENXu3GBvgtQACrdRoB5BYrhSrp+nO\n",
              "NtUvJ/XasGsujNlyAqiojDQ7tRahHSpdJQmM7cEIbR9UVSxW6CkQYGzLUCMzhGtnhRBC8d0JnPZi\n",
              "8xOthyjyN40M0xiF85xcHJ8qJuzgV8zJ96GVdChU8YPHusJeRodRHzWgMXvfJQiOwAmcg1OVwWlm\n",
              "legzcz8gttVbUAvlPi+6JZaQr0zTfkFWCGNouI+B+eUlKM2jBX7sf1YheeApjXP7Xd7C8r1UmMbt\n",
              "TWu7RC1d15nFroNE7ay7Dc38rqPXJIIiIztpGrsF4pXzScOoFzeSqWw8W4zYj8qBrAfZs2rje828\n",
              "g0VmEpVAQPNYoz5hME0axnsA5NseT3xN/1hY1/NxA8OimKLf9u+CTYfYHP35be43tncUSoWe1XvU\n",
              "/EKALRrgKNj2AIdJkE71pTCgNqZ94uNhASaL31nsAGNg+/S+WnzJXgUy4H0xnGefgLYIhrkTKFE+\n",
              "4Wgi5RAeqAXlFhRBZTamVUTkG+VjUwia5sOWvaKp/zypY0a9oheLfKMSmRjrIeb78pp5me270uMC\n",
              "zqcf1as5NTnYFlTla/iQC/nLq+nTbB0HYf6Sp+h2KvhFpuC3FKbOwlNyP9daO5UHPVG1qeii3t5z\n",
              "8PB4YhrIK3PPB6HHvC+F/hAvq7oKLS8S8p4pGvGUH1bWLi1Be073Pj/pvwe5U30OdNZgNaR4aMgO\n",
              "avkZcdGETaLSveKlvdUHVaFZG6WV8QSLqVj4U9DBFIXZuxZd0fJkcE0OsT8sJlMorhKxQtJGSvGd\n",
              "kckC/sLjpHnZnTiMfhrpG/Nb9Ay1v+RcgitIJANvYIiztQ+OZue4tPpXO6h14w1RD42ZHoLQib6z\n",
              "4PbS70x+opGSK1IEEuB8u/4zujaN9vKLyBHdHHQ+tnK1/UogjJa1nnpyXGS6HtKhySdueY8sSZPU\n",
              "bOeVLGilWJTwusv8jeT6rt6rWZ8UGynbrfFuS1HyietZbcgut12sik5f+rGz05u/5rJ5Ukw01eEM\n",
              "BXJHhIl5qpiP2+LHSmI36wm7lMXN/iqtW3QKV07VfXXq9AXI8AEOoTrlu/K9a7rQU1HlRlrC4rYw\n",
              "2kmgX1UtFmWPup3UPSq/jK33eUjvOegJqRDO5MsCHEPZoXZYVbvBZPZFOKLMFf83zqb4J5o3e+l/\n",
              "qEKyN2v6vp8YEuAIpr/Xi86x1obPIL8OURP7iIm235whzbLEPR4pTVJk6f7F4uNC0xmJD/ot1ipO\n",
              "PwsR5wasjJP1ANioTwHCqBMTpUIVCs7AGQcuIlpq4Mv8vXPHbrlXF4kh0Xwv46/XZ1Nw4PlFH7Ac\n",
              "azqsU9ga+ZAiGGOJFPyHb6W+yewCeekn7NDT56qiDtCAjHQbJ9XevgFFWIr2wlq4d2ImnZbzTMko\n",
              "LVFQbMlE9NFjSWw/L0cjLkC2j8RU53IRpX/AoumIOB/Ui8mCR6cpLPXYC8bSrtcSn8P4dcCl0ZQZ\n",
              "UJaq1mfHjTaqJ503DRFiwBcougbRY0lsPzAxzDuZletHKK+XizIOHS2yZP/iW9nXT5B5Izdq2WF3\n",
              "55ZHQpye9WRgOHo3cF6TGS+bnFWmtrl7hL5w7p2DNStHqD3Fh5w0m21AkMIfgMLgjv9JsGmrC28Y\n",
              "LPtDBSL7pCiBKGM9B23Vn2OZrvliHLtMJZi1ztEUdhURJhtmrIyHcppwKKVc1qG6IAvb6cR5Hjhu\n",
              "GcOIl2MWPTAxZvEtYUuRKYSKmfcGv9kXIqMyZRqY+YMMmz/sLUDk6CwHZWInUVXLk1ry1QxNphEP\n",
              "xQnoPKgiE0MmrwnASZl0s8IHQEK/c0GFqWt6lW1sBFYjzxLvJvuHkGBBAAAA2gGeYmpBXwAADb8J\n",
              "m34ATUtyNeley55TmSR6zhEJvVR95njrWR+gy5bplBeI6u3SAWLCkxy5ZR0QioRvVmXIxbOF1+iZ\n",
              "E3aOMrUIctl07Quj5MMvSOOsd5YY2gDEBzKwD5pdODbEh/jnNeKQ5VDPS/WgbROBoeRGuoOsWxg1\n",
              "yCsv2b8lwfKi0nQb8rMIlBT1WxQ6WYtFQZYLN7aSZgHA7SEiYgnrx4967AKYNFfcOTla2DuNL3mf\n",
              "NYoGPKry4Q0O5wPxwuB7fSruB1PEyvTCSab0knVZ9Agfl0EvAAADV21vb3YAAABsbXZoZAAAAAAA\n",
              "AAAAAAAAAAAAA+gAAA+gAAEAAAEAAAAAAAAAAAAAAAABAAAAAAAAAAAAAAAAAAAAAQAAAAAAAAAA\n",
              "AAAAAAAAQAAAAAAAAAAAAAAAAAAAAAAAAAAAAAAAAAAAAAAAAAIAAAKBdHJhawAAAFx0a2hkAAAA\n",
              "AwAAAAAAAAAAAAAAAQAAAAAAAA+gAAAAAAAAAAAAAAAAAAAAAAABAAAAAAAAAAAAAAAAAAAAAQAA\n",
              "AAAAAAAAAAAAAAAAQAAAAALQAAAC0AAAAAAAJGVkdHMAAAAcZWxzdAAAAAAAAAABAAAPoAAAgAAA\n",
              "AQAAAAAB+W1kaWEAAAAgbWRoZAAAAAAAAAAAAAAAAAAAQAAAAQAAVcQAAAAAAC1oZGxyAAAAAAAA\n",
              "AAB2aWRlAAAAAAAAAAAAAAAAVmlkZW9IYW5kbGVyAAAAAaRtaW5mAAAAFHZtaGQAAAABAAAAAAAA\n",
              "AAAAAAAkZGluZgAAABxkcmVmAAAAAAAAAAEAAAAMdXJsIAAAAAEAAAFkc3RibAAAALRzdHNkAAAA\n",
              "AAAAAAEAAACkYXZjMQAAAAAAAAABAAAAAAAAAAAAAAAAAAAAAALQAtAASAAAAEgAAAAAAAAAAQAA\n",
              "AAAAAAAAAAAAAAAAAAAAAAAAAAAAAAAAAAAAAAAAABj//wAAADJhdmNDAWQAH//hABlnZAAfrNlA\n",
              "tBboQAAAAwBAAAADAIPGDGWAAQAGaOvjyyLAAAAAHHV1aWRraEDyXyRPxbo5pRvPAyPzAAAAAAAA\n",
              "ABhzdHRzAAAAAAAAAAEAAAAEAABAAAAAABRzdHNzAAAAAAAAAAEAAAABAAAAKGN0dHMAAAAAAAAA\n",
              "AwAAAAIAAIAAAAAAAQAAwAAAAAABAABAAAAAABxzdHNjAAAAAAAAAAEAAAABAAAABAAAAAEAAAAk\n",
              "c3RzegAAAAAAAAAAAAAABAAAKRQAAA2WAAANrwAAAN4AAAAUc3RjbwAAAAAAAAABAAAALAAAAGJ1\n",
              "ZHRhAAAAWm1ldGEAAAAAAAAAIWhkbHIAAAAAAAAAAG1kaXJhcHBsAAAAAAAAAAAAAAAALWlsc3QA\n",
              "AAAlqXRvbwAAAB1kYXRhAAAAAQAAAABMYXZmNTcuODMuMTAw\n",
              "\">\n",
              "  Your browser does not support the video tag.\n",
              "</video>"
            ]
          },
          "metadata": {},
          "execution_count": 208
        }
      ]
    }
  ],
  "metadata": {
    "kernelspec": {
      "display_name": "Python 3",
      "language": "python",
      "name": "python3"
    },
    "language_info": {
      "codemirror_mode": {
        "name": "ipython",
        "version": 3
      },
      "file_extension": ".py",
      "mimetype": "text/x-python",
      "name": "python",
      "nbconvert_exporter": "python",
      "pygments_lexer": "ipython3",
      "version": "3.6.5"
    },
    "colab": {
      "name": "213101002_IE643_L2HW",
      "provenance": [],
      "collapsed_sections": []
    }
  },
  "nbformat": 4,
  "nbformat_minor": 0
}