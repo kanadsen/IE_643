{
  "cells": [
    {
      "cell_type": "markdown",
      "source": [
        "#Import required packages"
      ],
      "metadata": {
        "id": "7pWUFqBqD2JP"
      }
    },
    {
      "cell_type": "code",
      "execution_count": 9,
      "metadata": {
        "id": "VpoRS78t_YG7"
      },
      "outputs": [],
      "source": [
        "import numpy as np\n",
        "import matplotlib.pyplot as plt\n",
        "import random"
      ]
    },
    {
      "cell_type": "code",
      "source": [
        "#seed random number generator of numpy for reproducibility\n",
        "np.random.seed(21)"
      ],
      "metadata": {
        "id": "EFhYg00oBkTI"
      },
      "execution_count": 10,
      "outputs": []
    },
    {
      "cell_type": "markdown",
      "source": [
        "#Data Generation"
      ],
      "metadata": {
        "id": "UbEXQaAwBQtg"
      }
    },
    {
      "cell_type": "markdown",
      "source": [
        "1. Generate 10 two-dimensional data points from a multi-variate Gaussian distribution with mean [0,0] and identity covariance matrix. Label data points as class +1. Consider this labeled data set as $D_1$.  ($\\textbf{Hint:}$ Use numpy.random.multivariate_normal)"
      ],
      "metadata": {
        "id": "RpsFp0ADAQlO"
      }
    },
    {
      "cell_type": "markdown",
      "source": [
        "## Mean and Covariance Matrix type\n",
        "<li>In 1D, both mean and variance can be a single number.\n",
        "\n",
        "<li>For 2D ($x$ and $y$), there will be 2 means ($\\mu_x$ and $\\mu_y$).\n",
        "Also, Covariance matrix would be\n",
        "$$Cov=\\begin{bmatrix}\n",
        " \\sigma_{xx}^2 & \\sigma_{xy}^2 \\\\\n",
        " \\sigma_{yx}^2 & \\sigma_{yy}^2\n",
        "\\end{bmatrix}$$\n",
        "The covariance matrix is therefore symmetric and also a positive semidefinite will help in proper sampling."
      ],
      "metadata": {
        "id": "xhZ0CoO04Nti"
      }
    },
    {
      "cell_type": "code",
      "source": [
        "#Generate D_1\n",
        "mean=np.array([0,0])\n",
        "cov=np.eye(2,2)\n",
        "\n",
        "#seed random number generator of numpy for reproducibility\n",
        "np.random.seed(21)\n",
        "D1 = np.random.multivariate_normal(mean, cov, 10)\n",
        "x1,y1=D1.T\n",
        "\n",
        "#Adding Label +1 \n",
        "D1=np.insert(D1,D1.shape[1],int(1),axis=1)\n",
        "\n",
        "#plotting D1\n",
        "plt.figure(figsize=(10,10))\n",
        "plt.plot(x1, y1, 'x')\n",
        "plt.axis('equal')\n",
        "plt.show()"
      ],
      "metadata": {
        "id": "ewUGs6OtBVQf",
        "outputId": "f3af6014-e0d5-44ca-e0f2-9916b3bc98d8",
        "colab": {
          "base_uri": "https://localhost:8080/",
          "height": 592
        }
      },
      "execution_count": 12,
      "outputs": [
        {
          "output_type": "display_data",
          "data": {
            "text/plain": [
              "<Figure size 720x720 with 1 Axes>"
            ],
            "image/png": "[encoded data removed]"
          },
          "metadata": {
            "needs_background": "light"
          }
        }
      ]
    },
    {
      "cell_type": "markdown",
      "source": [
        "2. Generate 10 two-dimensional data points from a multi-variate Gaussian distribution with mean [-2,-2] and identity covariance matrix. Label data points as class -1. Consider this labeled data set as $D_2$."
      ],
      "metadata": {
        "id": "VMzG2JJLBVkz"
      }
    },
    {
      "cell_type": "code",
      "source": [
        "#Generate D_2\n",
        "mean=np.array([-2,-2])\n",
        "cov=np.eye(2,2)\n",
        "\n",
        "#seed random number generator of numpy for reproducibility\n",
        "np.random.seed(21)\n",
        "D2 = np.random.multivariate_normal(mean, cov, 10)\n",
        "x2, y2 = D2.T\n",
        "\n",
        "#Adding Label +1 \n",
        "D2=np.insert(D2,D2.shape[1],int(-1),axis=1)\n",
        "\n",
        "plt.figure(figsize=(10,10))\n",
        "plt.plot(x2, y2, 'x')\n",
        "plt.axis('equal')\n",
        "plt.show()"
      ],
      "metadata": {
        "id": "ISyEFMlLBYjh",
        "outputId": "09cf7449-8dc5-47e2-a4ea-1eb83cb7cd94",
        "colab": {
          "base_uri": "https://localhost:8080/",
          "height": 592
        }
      },
      "execution_count": 13,
      "outputs": [
        {
          "output_type": "display_data",
          "data": {
            "text/plain": [
              "<Figure size 720x720 with 1 Axes>"
            ],
            "image/png": "[encoded data removed]"
          },
          "metadata": {
            "needs_background": "light"
          }
        }
      ]
    },
    {
      "cell_type": "markdown",
      "source": [
        "3. Construct $D=D_1 \\cup D_2$. Shuffle the data in $D$. (Hint: Use random.shuffle().)"
      ],
      "metadata": {
        "id": "_zc-fEyRCBI-"
      }
    },
    {
      "cell_type": "code",
      "source": [
        "print(\"D1\\n\",D1)\n",
        "print(\"D2\\n\",D2)"
      ],
      "metadata": {
        "colab": {
          "base_uri": "https://localhost:8080/"
        },
        "id": "j9RsfVf-to6Y",
        "outputId": "73a21c34-d524-443f-f275-5441bb742466"
      },
      "execution_count": 14,
      "outputs": [
        {
          "output_type": "stream",
          "name": "stdout",
          "text": [
            "D1\n",
            " [[-0.05196425 -0.11119605  1.        ]\n",
            " [ 1.0417968  -1.25673929  1.        ]\n",
            " [ 0.74538768 -1.71105376  1.        ]\n",
            " [-0.20586438 -0.23457129  1.        ]\n",
            " [ 1.12814404 -0.01262595  1.        ]\n",
            " [-0.61320029  1.3736885   1.        ]\n",
            " [ 1.61099198 -0.68922827  1.        ]\n",
            " [ 0.69192371 -0.4481156   1.        ]\n",
            " [ 0.16234247  0.25722913  1.        ]\n",
            " [-1.27545586  0.06400443  1.        ]]\n",
            "D2\n",
            " [[-2.05196425 -2.11119605 -1.        ]\n",
            " [-0.9582032  -3.25673929 -1.        ]\n",
            " [-1.25461232 -3.71105376 -1.        ]\n",
            " [-2.20586438 -2.23457129 -1.        ]\n",
            " [-0.87185596 -2.01262595 -1.        ]\n",
            " [-2.61320029 -0.6263115  -1.        ]\n",
            " [-0.38900802 -2.68922827 -1.        ]\n",
            " [-1.30807629 -2.4481156  -1.        ]\n",
            " [-1.83765753 -1.74277087 -1.        ]\n",
            " [-3.27545586 -1.93599557 -1.        ]]\n"
          ]
        }
      ]
    },
    {
      "cell_type": "code",
      "source": [
        "#Construct D and shuffle\n",
        "D=np.concatenate((D1,D2),axis=0)\n",
        "np.random.shuffle(D)\n",
        "D"
      ],
      "metadata": {
        "id": "9kys1gOBDlFC",
        "colab": {
          "base_uri": "https://localhost:8080/"
        },
        "outputId": "571f94ba-ede9-4a52-93c5-cfc56efe73ed"
      },
      "execution_count": 15,
      "outputs": [
        {
          "output_type": "execute_result",
          "data": {
            "text/plain": [
              "array([[-1.25461232, -3.71105376, -1.        ],\n",
              "       [ 0.16234247,  0.25722913,  1.        ],\n",
              "       [ 0.74538768, -1.71105376,  1.        ],\n",
              "       [-0.87185596, -2.01262595, -1.        ],\n",
              "       [ 1.0417968 , -1.25673929,  1.        ],\n",
              "       [-2.05196425, -2.11119605, -1.        ],\n",
              "       [ 0.69192371, -0.4481156 ,  1.        ],\n",
              "       [ 1.12814404, -0.01262595,  1.        ],\n",
              "       [-0.20586438, -0.23457129,  1.        ],\n",
              "       [-1.83765753, -1.74277087, -1.        ],\n",
              "       [-1.30807629, -2.4481156 , -1.        ],\n",
              "       [-0.9582032 , -3.25673929, -1.        ],\n",
              "       [-3.27545586, -1.93599557, -1.        ],\n",
              "       [-0.61320029,  1.3736885 ,  1.        ],\n",
              "       [-0.05196425, -0.11119605,  1.        ],\n",
              "       [-2.20586438, -2.23457129, -1.        ],\n",
              "       [-0.38900802, -2.68922827, -1.        ],\n",
              "       [-1.27545586,  0.06400443,  1.        ],\n",
              "       [ 1.61099198, -0.68922827,  1.        ],\n",
              "       [-2.61320029, -0.6263115 , -1.        ]])"
            ]
          },
          "metadata": {},
          "execution_count": 15
        }
      ]
    },
    {
      "cell_type": "markdown",
      "source": [
        "#Data Visualization"
      ],
      "metadata": {
        "id": "X323eC7MGy62"
      }
    },
    {
      "cell_type": "markdown",
      "source": [
        "Write code to visualize the data $D$ you have generated. Use different colors for different classes. (Use matplotlib.pyplot.scatter to plot the points.)"
      ],
      "metadata": {
        "id": "LHP4fS3QG1pJ"
      }
    },
    {
      "cell_type": "code",
      "source": [
        "def plot_data(data,lineplot=False):\n",
        "  #write code to plot the data points. Use different colors for different classes.\n",
        "  if data.shape[1]!=3:\n",
        "    raise Exception(\"Add label to 2D data!\")\n",
        "  x,y,label=data.T\n",
        "  \n",
        "\n",
        "  plt.figure(figsize=(10,10))\n",
        "  plt.scatter(x, y, c=label)\n",
        "\n",
        "  if not lineplot:\n",
        "    plt.show()\n",
        "\n",
        "\n",
        "plot_data(D)"
      ],
      "metadata": {
        "id": "KzI4a69LG0z6",
        "colab": {
          "base_uri": "https://localhost:8080/",
          "height": 592
        },
        "outputId": "5ca34be3-6a57-465a-b174-1191808f0b57"
      },
      "execution_count": 43,
      "outputs": [
        {
          "output_type": "display_data",
          "data": {
            "text/plain": [
              "<Figure size 720x720 with 1 Axes>"
            ],
            "image/png": "[encoded data removed]"
          },
          "metadata": {
            "needs_background": "light"
          }
        }
      ]
    },
    {
      "cell_type": "markdown",
      "source": [
        "#Perceptron prediction function"
      ],
      "metadata": {
        "id": "F2aTQX9dD-De"
      }
    },
    {
      "cell_type": "markdown",
      "source": [
        "Write code to implement the prediction rule used in Perceptron. (Use the numpy function which helps in computing the dot product between two vectors.)"
      ],
      "metadata": {
        "id": "oWoQ8TEcD8Es"
      }
    },
    {
      "cell_type": "code",
      "execution_count": 11,
      "metadata": {
        "id": "qeCo0wAB_YHA"
      },
      "outputs": [],
      "source": [
        "def perceptron_prediction(w, x):\n",
        "    #write code to compute the prediction for the example x using weight w\n",
        "    pred=np.dot(w,x)\n",
        "    if pred>=0:\n",
        "      prediction = +1\n",
        "    else:\n",
        "      prediction = -1\n",
        "    \n",
        "    return prediction"
      ]
    },
    {
      "cell_type": "markdown",
      "source": [
        "#Function to update weights "
      ],
      "metadata": {
        "id": "6a9jDQ-qEC85"
      }
    },
    {
      "cell_type": "markdown",
      "source": [
        "Write code to implement the update rule for updating weights in perceptron learning algorithm. If there is a mistake in prediction made by perceptron, return is_mistake as True, otherwise return is_mistake as False. "
      ],
      "metadata": {
        "id": "HH3oAlYCEMb4"
      }
    },
    {
      "cell_type": "code",
      "execution_count": 37,
      "metadata": {
        "id": "ne0ohgNI_YHB"
      },
      "outputs": [],
      "source": [
        "def perceptron_update_weights(w, x, y, y_pred):\n",
        "    is_mistake = False\n",
        "    #check for mistake and set is_mistake flag accordingly\n",
        "    #and write code to update the weights in perceptron \n",
        "    if y_pred!=y:\n",
        "      is_mistake=True\n",
        "      w=w+y*x\n",
        "    return w, is_mistake"
      ]
    },
    {
      "cell_type": "markdown",
      "source": [
        "#Training procedure for perceptron"
      ],
      "metadata": {
        "id": "5NrLsVCBEJHz"
      }
    },
    {
      "cell_type": "markdown",
      "source": [
        "Complete the training procedure to train perceptron by adding appropriate code where required."
      ],
      "metadata": {
        "id": "CFIA67sBGfWc"
      }
    },
    {
      "cell_type": "code",
      "source": [
        "a.shape,b.shape"
      ],
      "metadata": {
        "colab": {
          "base_uri": "https://localhost:8080/"
        },
        "id": "sT36Yq-Wimmd",
        "outputId": "60439dbc-25f4-4286-a662-5fe8d50eecbb"
      },
      "execution_count": 28,
      "outputs": [
        {
          "output_type": "execute_result",
          "data": {
            "text/plain": [
              "((2, 2), (1, 2))"
            ]
          },
          "metadata": {},
          "execution_count": 28
        }
      ]
    },
    {
      "cell_type": "code",
      "source": [
        "a = np.array([[1, 2], [3, 4]])\n",
        "b = np.array([[5, 6]])\n",
        "np.concatenate((a, b), axis=0)\n"
      ],
      "metadata": {
        "colab": {
          "base_uri": "https://localhost:8080/"
        },
        "id": "uc2gE7KSkUa9",
        "outputId": "eda41419-192b-4e4e-918c-5c00c637ce9c"
      },
      "execution_count": 27,
      "outputs": [
        {
          "output_type": "execute_result",
          "data": {
            "text/plain": [
              "array([[1, 2],\n",
              "       [3, 4],\n",
              "       [5, 6]])"
            ]
          },
          "metadata": {},
          "execution_count": 27
        }
      ]
    },
    {
      "cell_type": "code",
      "source": [
        "x=D[0,0:2]\n",
        "ones=np.array([[1,1]])\n",
        "np.concatenate((x, np.array([1])), axis=0)"
      ],
      "metadata": {
        "colab": {
          "base_uri": "https://localhost:8080/"
        },
        "id": "duy8Jkv3lnNW",
        "outputId": "b2990146-b4d1-4715-d2f2-1a314969644f"
      },
      "execution_count": 36,
      "outputs": [
        {
          "output_type": "execute_result",
          "data": {
            "text/plain": [
              "array([-1.25461232, -3.71105376,  1.        ])"
            ]
          },
          "metadata": {},
          "execution_count": 36
        }
      ]
    },
    {
      "cell_type": "code",
      "execution_count": 61,
      "metadata": {
        "id": "08hi7UQS_YHB"
      },
      "outputs": [],
      "source": [
        "def train_perceptron(data):\n",
        "    #Initialize weights \n",
        "    #w = ??  # try randomly generating w or zero initialization\n",
        "    w=np.ones(data.shape[1])\n",
        "    epochs=0 #useful for executing multiple passes over a finite data set\n",
        "    num_mistakes = 99 #some dummy value to get the while loop going \n",
        "    max_epochs = 50 \n",
        "\n",
        "    while num_mistakes > 0 and epochs<max_epochs:   # until mistakes are not zero or number of epochs reach max_epochs\n",
        "        num_mistakes = 0\n",
        "        for i in range(len(data)):\n",
        "            #retrieve the feature vector x from data set D \n",
        "            x = data[i,0:2]\n",
        "            #Append an additional constant feature 1 to x (Use np.concatenate)\n",
        "            x = np.concatenate((x,1), axis=None)\n",
        "            \n",
        "            y_hat = perceptron_prediction(w, x)\n",
        "            \n",
        "            #retrieve the label y for x from data set D \n",
        "            y = data[i,2]\n",
        "            \n",
        "            w, is_mistake = perceptron_update_weights(w, x, y, y_hat)\n",
        "            \n",
        "            if is_mistake:\n",
        "              num_mistakes += 1\n",
        "\n",
        "        epochs=epochs+1\n",
        "    return w"
      ]
    },
    {
      "cell_type": "markdown",
      "source": [
        "#Plotting the separating line"
      ],
      "metadata": {
        "id": "4obz-qQlD6DT"
      }
    },
    {
      "cell_type": "markdown",
      "source": [
        "Write code to plot the separating line along with the data."
      ],
      "metadata": {
        "id": "B9vTTWmMH1e8"
      }
    },
    {
      "cell_type": "code",
      "execution_count": 50,
      "metadata": {
        "id": "UF3MW_5r_YG_"
      },
      "outputs": [],
      "source": [
        "def plot_data_with_separator(data, w):\n",
        "  #write required code. (You can reuse the code written for plotting the data points.)\n",
        "  plot_data(data,True)\n",
        "  #using two points in a line to plot\n",
        "  xPoint=np.array([0,0])\n",
        "  xPoint[0]=min(data[:,0])-1\n",
        "  xPoint[1]=max(data[:,0])+1\n",
        "  yPoint= (w[0]*xPoint+w[2])/(-w[1])\n",
        "  plt.plot(xPoint,yPoint)\n",
        "  plt.show()\n"
      ]
    },
    {
      "cell_type": "markdown",
      "source": [
        "#Calling the Perceptron train function."
      ],
      "metadata": {
        "id": "i46n2f8eIcjD"
      }
    },
    {
      "cell_type": "code",
      "execution_count": 62,
      "metadata": {
        "id": "fgZyu4VC_YHK"
      },
      "outputs": [],
      "source": [
        "w_final = train_perceptron(data)    \n",
        " "
      ]
    },
    {
      "cell_type": "markdown",
      "source": [
        "#Calling the plot function to plot separator"
      ],
      "metadata": {
        "id": "1cwNJElLIneS"
      }
    },
    {
      "cell_type": "code",
      "source": [
        "plot_data_with_separator(data, w_final)"
      ],
      "metadata": {
        "id": "jyLZvy0wk9vn",
        "colab": {
          "base_uri": "https://localhost:8080/",
          "height": 592
        },
        "outputId": "260a2cc1-0bcf-425f-f85b-b24432ec48ea"
      },
      "execution_count": 63,
      "outputs": [
        {
          "output_type": "display_data",
          "data": {
            "text/plain": [
              "<Figure size 720x720 with 1 Axes>"
            ],
            "image/png": "[encoded data removed]"
          },
          "metadata": {
            "needs_background": "light"
          }
        }
      ]
    },
    {
      "cell_type": "markdown",
      "source": [
        "#Additional functionality (Optional):\n",
        "\n",
        "Illustrate the behavior of the separating line between the updates as contiguous plots or as animation. Highlight the data points which cause the update in the separating line orientations.\n",
        "\n"
      ],
      "metadata": {
        "id": "l5XomIo7SiW9"
      }
    },
    {
      "cell_type": "code",
      "source": [
        ""
      ],
      "metadata": {
        "id": "WIwYty51Sy2p"
      },
      "execution_count": null,
      "outputs": []
    }
  ],
  "metadata": {
    "kernelspec": {
      "display_name": "Python 3",
      "language": "python",
      "name": "python3"
    },
    "language_info": {
      "codemirror_mode": {
        "name": "ipython",
        "version": 3
      },
      "file_extension": ".py",
      "mimetype": "text/x-python",
      "name": "python",
      "nbconvert_exporter": "python",
      "pygments_lexer": "ipython3",
      "version": "3.6.5"
    },
    "colab": {
      "name": "Copy of Perceptron_Exercise.ipynb",
      "provenance": [],
      "collapsed_sections": []
    }
  },
  "nbformat": 4,
  "nbformat_minor": 0
}